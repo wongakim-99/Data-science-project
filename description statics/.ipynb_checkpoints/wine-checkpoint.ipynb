{
 "cells": [
  {
   "cell_type": "markdown",
   "id": "2fd7a477-fef5-4804-8a5e-9c895beb9c5c",
   "metadata": {},
   "source": [
    "# 와인의 속성을 분석한 뒤 품질 등급 예측\n",
    "이를 위해 와인 데이터의 기술 통계를 구하고 레드 와인과 화이트 와인 그룹의 품질에 대한 t-검정을 수행\n",
    "와인 속성에 따른 품질 등급을 예측하기 위해 와인 속성을 독립 변수로, 품질 등급을 종속 변수로 선형 회귀 분석 수행"
   ]
  },
  {
   "cell_type": "markdown",
   "id": "3139e889-2233-420c-bf2e-470e3ea6f6f6",
   "metadata": {},
   "source": [
    "### ◎기술 통계\n",
    "- 데이터의 특성을 나타내는 수치를 이용해 분석하는 기본적인 통계 방법으로 \"요약 통계\"라고도 한다.\n",
    "- 기술 통계로 구할 수 있는 통계값 에는 평균, 중앙값, 최빈값 등이 있다.\n",
    "- 표준편차와 사분위로 데이터가 어떻게 분포되는지 알 수 있다."
   ]
  },
  {
   "cell_type": "markdown",
   "id": "58d1b2ba-5ea0-49af-a2bb-916c379cc3ae",
   "metadata": {},
   "source": [
    "### ◎회귀 분석\n",
    "**회귀 분석은 독립변수 x와 종속 변수 y간의 상호 연관성 정도를 파악하기 위한 분석 기법**\n",
    "**하나의 변수가 변함에 따라 대응 되는 변수가 어떻게 변하는지를 측정하는 것으로, 변수 간의 인과관계를 분석할때 많이 사용**\n",
    "- 독립 변수가 한 개이면 단순 회귀 분석\n",
    "- 두 개 이상이면 다중 회귀 분석\n",
    "- 독립 변수와 종속 변수의 관계에 따라 선형 회귀 분석과 비선형 회귀 분석으로 나눔\n",
    "  - 아래는 선형 회귀 분석과 관련 식\n",
    "  - y = b0 + b1x + b2x2 + ... + bnxn\n",
    "\n",
    "*※참고※*<br/>\n",
    "독립변수 : 다른 변수에 영향을 주는 변수로, 일반적으로 원인이 되는 변수입니다 <br/>\n",
    "종속변수 : 다른 변수에 의해 영향을 받는 변수로, 일반적으로 결과가 되는 변수입니다. "
   ]
  },
  {
   "cell_type": "markdown",
   "id": "a42e989a-0878-412e-b0f5-92e20076dbda",
   "metadata": {},
   "source": [
    "### ◎t - 검정\n",
    "\n",
    "**데이터에서 찾은 평균으로 두 그룹에 차이가 있는지 확인하는 방법.**\n",
    "**예를 들어, A와인의 품질이 1등급인지 2등급인지에 따라 가격에 차이가 있는지를 확인할 때 사용한다.**"
   ]
  },
  {
   "cell_type": "markdown",
   "id": "488b47ff-f546-45a2-a621-e9f38b513e83",
   "metadata": {},
   "source": [
    "### ◎히스토그램\n",
    "**히스토그램은 데이터 값의 범위를 몇 개 구간으로 나누고 각 구간에 해당하는 값의 숫자나 상대적 빈도 크기를 차트로 냐타낸 것**<br/>\n",
    "**파이썬 프로그래밍으로 히스토그램을 그리려면 matplotlib라이브러리 패키지의 hist()함수느 seaborn 라이브러리 패키지의 displot()함수 사용**"
   ]
  },
  {
   "cell_type": "code",
   "execution_count": 4,
   "id": "c284a46c-9102-42bf-a513-bbf204cb75bf",
   "metadata": {},
   "outputs": [],
   "source": [
    "# https://archive.ics.uci.edu/dataset/186/wine+quality <- 여기서 데이터 다운로드\n",
    "import pandas as pd\n",
    "red_df = pd.read_csv(\"C:/Users/kgw19/Data-science-project/description statics/winequality-red.csv\", sep = ';', header =0 , engine = 'python') \n",
    "white_df = pd.read_csv(\"C:/Users/kgw19/Data-science-project/description statics/winequality-white.csv\", sep = ';', header = 0, engine = 'python')\n",
    "\n",
    "# pandas의 read_csv 함수를 사용하 csv파일을 읽어오고, 이때 csv 파일 데이터의 열 구분자를 세미콜론으로 지정하기위해 sep 매개변수 값을 ; 으로 지정"
   ]
  },
  {
   "cell_type": "code",
   "execution_count": 6,
   "id": "390a981c-0a71-424a-a549-eef17b1aba19",
   "metadata": {},
   "outputs": [],
   "source": [
    "red_df.to_csv(\"C:/Users/kgw19/Data-science-project/description statics/winequality-red2.csv\", index = False)\n",
    "white_df.to_csv(\"C:/Users/kgw19/Data-science-project/description statics/winequality-white2.csv\", index = False)\n",
    "\n",
    "# pandas로 읽은 CSV 데이터는 테이블 형태의 DataFrame객체(read_df, white_df)에 있다. 이 상태 그대로 CSV 파일로 저장"
   ]
  },
  {
   "attachments": {},
   "cell_type": "markdown",
   "id": "fbd8a1c6-d1e9-4d4e-aad3-640461d3b4ab",
   "metadata": {},
   "source": [
    "※ winequality-red2.csv파일은 레드 와인에 대한 데이터셋. <br/>\n",
    "샘플이 약 1599이고, 열은 12개. 머신러닝용 데이터셋은 n개 속성 중에서 마지막이 출력변수 y이고 앞에서부터 n-1개 속성은 입력변수x로 구성<br/>\n",
    "winequality-red2의 입력 변수로는 12개로 fixed acidity, volatile acidity, citric acid, residual sugar...이렇게 12개 있음(x 좌표)"
   ]
  },
  {
   "cell_type": "markdown",
   "id": "187fc161-edb4-4d9f-822b-cbba520f6508",
   "metadata": {},
   "source": [
    "## 데이터 병합하기\n",
    "\n",
    "**레드 와인과 화이트 와인 파일 합치기**<br/>\n",
    "**레드 와인과 화이트 와인을 비교해서 분석할 것이므로 두 파일을 하나로 합쳐야 한다. 이때 type 열을 추가하여 레드 와인과 화이트 와인을 구분한다.**"
   ]
  },
  {
   "cell_type": "code",
   "execution_count": 34,
   "id": "15a0f851-7c29-4650-9438-7b8ccee63193",
   "metadata": {},
   "outputs": [
    {
     "data": {
      "text/html": [
       "<div>\n",
       "<style scoped>\n",
       "    .dataframe tbody tr th:only-of-type {\n",
       "        vertical-align: middle;\n",
       "    }\n",
       "\n",
       "    .dataframe tbody tr th {\n",
       "        vertical-align: top;\n",
       "    }\n",
       "\n",
       "    .dataframe thead th {\n",
       "        text-align: right;\n",
       "    }\n",
       "</style>\n",
       "<table border=\"1\" class=\"dataframe\">\n",
       "  <thead>\n",
       "    <tr style=\"text-align: right;\">\n",
       "      <th></th>\n",
       "      <th>type</th>\n",
       "      <th>fixed acidity</th>\n",
       "      <th>volatile acidity</th>\n",
       "      <th>citric acid</th>\n",
       "      <th>residual sugar</th>\n",
       "      <th>chlorides</th>\n",
       "      <th>free sulfur dioxide</th>\n",
       "      <th>total sulfur dioxide</th>\n",
       "      <th>density</th>\n",
       "      <th>pH</th>\n",
       "      <th>sulphates</th>\n",
       "      <th>alcohol</th>\n",
       "      <th>quality</th>\n",
       "    </tr>\n",
       "  </thead>\n",
       "  <tbody>\n",
       "    <tr>\n",
       "      <th>0</th>\n",
       "      <td>red</td>\n",
       "      <td>7.4</td>\n",
       "      <td>0.70</td>\n",
       "      <td>0.00</td>\n",
       "      <td>1.9</td>\n",
       "      <td>0.076</td>\n",
       "      <td>11.0</td>\n",
       "      <td>34.0</td>\n",
       "      <td>0.9978</td>\n",
       "      <td>3.51</td>\n",
       "      <td>0.56</td>\n",
       "      <td>9.4</td>\n",
       "      <td>5</td>\n",
       "    </tr>\n",
       "    <tr>\n",
       "      <th>1</th>\n",
       "      <td>red</td>\n",
       "      <td>7.8</td>\n",
       "      <td>0.88</td>\n",
       "      <td>0.00</td>\n",
       "      <td>2.6</td>\n",
       "      <td>0.098</td>\n",
       "      <td>25.0</td>\n",
       "      <td>67.0</td>\n",
       "      <td>0.9968</td>\n",
       "      <td>3.20</td>\n",
       "      <td>0.68</td>\n",
       "      <td>9.8</td>\n",
       "      <td>5</td>\n",
       "    </tr>\n",
       "    <tr>\n",
       "      <th>2</th>\n",
       "      <td>red</td>\n",
       "      <td>7.8</td>\n",
       "      <td>0.76</td>\n",
       "      <td>0.04</td>\n",
       "      <td>2.3</td>\n",
       "      <td>0.092</td>\n",
       "      <td>15.0</td>\n",
       "      <td>54.0</td>\n",
       "      <td>0.9970</td>\n",
       "      <td>3.26</td>\n",
       "      <td>0.65</td>\n",
       "      <td>9.8</td>\n",
       "      <td>5</td>\n",
       "    </tr>\n",
       "    <tr>\n",
       "      <th>3</th>\n",
       "      <td>red</td>\n",
       "      <td>11.2</td>\n",
       "      <td>0.28</td>\n",
       "      <td>0.56</td>\n",
       "      <td>1.9</td>\n",
       "      <td>0.075</td>\n",
       "      <td>17.0</td>\n",
       "      <td>60.0</td>\n",
       "      <td>0.9980</td>\n",
       "      <td>3.16</td>\n",
       "      <td>0.58</td>\n",
       "      <td>9.8</td>\n",
       "      <td>6</td>\n",
       "    </tr>\n",
       "    <tr>\n",
       "      <th>4</th>\n",
       "      <td>red</td>\n",
       "      <td>7.4</td>\n",
       "      <td>0.70</td>\n",
       "      <td>0.00</td>\n",
       "      <td>1.9</td>\n",
       "      <td>0.076</td>\n",
       "      <td>11.0</td>\n",
       "      <td>34.0</td>\n",
       "      <td>0.9978</td>\n",
       "      <td>3.51</td>\n",
       "      <td>0.56</td>\n",
       "      <td>9.4</td>\n",
       "      <td>5</td>\n",
       "    </tr>\n",
       "  </tbody>\n",
       "</table>\n",
       "</div>"
      ],
      "text/plain": [
       "  type  fixed acidity  volatile acidity  citric acid  residual sugar  \\\n",
       "0  red            7.4              0.70         0.00             1.9   \n",
       "1  red            7.8              0.88         0.00             2.6   \n",
       "2  red            7.8              0.76         0.04             2.3   \n",
       "3  red           11.2              0.28         0.56             1.9   \n",
       "4  red            7.4              0.70         0.00             1.9   \n",
       "\n",
       "   chlorides  free sulfur dioxide  total sulfur dioxide  density    pH  \\\n",
       "0      0.076                 11.0                  34.0   0.9978  3.51   \n",
       "1      0.098                 25.0                  67.0   0.9968  3.20   \n",
       "2      0.092                 15.0                  54.0   0.9970  3.26   \n",
       "3      0.075                 17.0                  60.0   0.9980  3.16   \n",
       "4      0.076                 11.0                  34.0   0.9978  3.51   \n",
       "\n",
       "   sulphates  alcohol  quality  \n",
       "0       0.56      9.4        5  \n",
       "1       0.68      9.8        5  \n",
       "2       0.65      9.8        5  \n",
       "3       0.58      9.8        6  \n",
       "4       0.56      9.4        5  "
      ]
     },
     "execution_count": 34,
     "metadata": {},
     "output_type": "execute_result"
    }
   ],
   "source": [
    "red_df.head()"
   ]
  },
  {
   "cell_type": "code",
   "execution_count": 67,
   "id": "60fee0cd-531a-41b6-afc0-e8a6e1cfc83c",
   "metadata": {},
   "outputs": [
    {
     "ename": "ValueError",
     "evalue": "cannot insert type, already exists",
     "output_type": "error",
     "traceback": [
      "\u001b[1;31m---------------------------------------------------------------------------\u001b[0m",
      "\u001b[1;31mValueError\u001b[0m                                Traceback (most recent call last)",
      "Cell \u001b[1;32mIn[67], line 1\u001b[0m\n\u001b[1;32m----> 1\u001b[0m red_df\u001b[38;5;241m.\u001b[39minsert(\u001b[38;5;241m0\u001b[39m, column \u001b[38;5;241m=\u001b[39m \u001b[38;5;124m'\u001b[39m\u001b[38;5;124mtype\u001b[39m\u001b[38;5;124m'\u001b[39m, value \u001b[38;5;241m=\u001b[39m \u001b[38;5;124m'\u001b[39m\u001b[38;5;124mred\u001b[39m\u001b[38;5;124m'\u001b[39m)\n\u001b[0;32m      2\u001b[0m red_df\u001b[38;5;241m.\u001b[39mhead()\n",
      "File \u001b[1;32m~\\anaconda3\\Lib\\site-packages\\pandas\\core\\frame.py:4931\u001b[0m, in \u001b[0;36mDataFrame.insert\u001b[1;34m(self, loc, column, value, allow_duplicates)\u001b[0m\n\u001b[0;32m   4925\u001b[0m     \u001b[38;5;28;01mraise\u001b[39;00m \u001b[38;5;167;01mValueError\u001b[39;00m(\n\u001b[0;32m   4926\u001b[0m         \u001b[38;5;124m\"\u001b[39m\u001b[38;5;124mCannot specify \u001b[39m\u001b[38;5;124m'\u001b[39m\u001b[38;5;124mallow_duplicates=True\u001b[39m\u001b[38;5;124m'\u001b[39m\u001b[38;5;124m when \u001b[39m\u001b[38;5;124m\"\u001b[39m\n\u001b[0;32m   4927\u001b[0m         \u001b[38;5;124m\"\u001b[39m\u001b[38;5;124m'\u001b[39m\u001b[38;5;124mself.flags.allows_duplicate_labels\u001b[39m\u001b[38;5;124m'\u001b[39m\u001b[38;5;124m is False.\u001b[39m\u001b[38;5;124m\"\u001b[39m\n\u001b[0;32m   4928\u001b[0m     )\n\u001b[0;32m   4929\u001b[0m \u001b[38;5;28;01mif\u001b[39;00m \u001b[38;5;129;01mnot\u001b[39;00m allow_duplicates \u001b[38;5;129;01mand\u001b[39;00m column \u001b[38;5;129;01min\u001b[39;00m \u001b[38;5;28mself\u001b[39m\u001b[38;5;241m.\u001b[39mcolumns:\n\u001b[0;32m   4930\u001b[0m     \u001b[38;5;66;03m# Should this be a different kind of error??\u001b[39;00m\n\u001b[1;32m-> 4931\u001b[0m     \u001b[38;5;28;01mraise\u001b[39;00m \u001b[38;5;167;01mValueError\u001b[39;00m(\u001b[38;5;124mf\u001b[39m\u001b[38;5;124m\"\u001b[39m\u001b[38;5;124mcannot insert \u001b[39m\u001b[38;5;132;01m{\u001b[39;00mcolumn\u001b[38;5;132;01m}\u001b[39;00m\u001b[38;5;124m, already exists\u001b[39m\u001b[38;5;124m\"\u001b[39m)\n\u001b[0;32m   4932\u001b[0m \u001b[38;5;28;01mif\u001b[39;00m \u001b[38;5;129;01mnot\u001b[39;00m is_integer(loc):\n\u001b[0;32m   4933\u001b[0m     \u001b[38;5;28;01mraise\u001b[39;00m \u001b[38;5;167;01mTypeError\u001b[39;00m(\u001b[38;5;124m\"\u001b[39m\u001b[38;5;124mloc must be int\u001b[39m\u001b[38;5;124m\"\u001b[39m)\n",
      "\u001b[1;31mValueError\u001b[0m: cannot insert type, already exists"
     ]
    }
   ],
   "source": [
    "red_df.insert(0, column = 'type', value = 'red')\n",
    "red_df.head()"
   ]
  },
  {
   "cell_type": "code",
   "execution_count": 37,
   "id": "25ed554a-ca95-4e53-8c4d-da9892c82ceb",
   "metadata": {},
   "outputs": [
    {
     "data": {
      "text/plain": [
       "(1599, 13)"
      ]
     },
     "execution_count": 37,
     "metadata": {},
     "output_type": "execute_result"
    }
   ],
   "source": [
    "red_df.shape # 데이터가 1599개 있고 입력변수가 13개 있다는 뜻"
   ]
  },
  {
   "cell_type": "code",
   "execution_count": 38,
   "id": "61cb935a-6b60-4f4f-a75f-c013b7aa8d98",
   "metadata": {},
   "outputs": [
    {
     "data": {
      "text/html": [
       "<div>\n",
       "<style scoped>\n",
       "    .dataframe tbody tr th:only-of-type {\n",
       "        vertical-align: middle;\n",
       "    }\n",
       "\n",
       "    .dataframe tbody tr th {\n",
       "        vertical-align: top;\n",
       "    }\n",
       "\n",
       "    .dataframe thead th {\n",
       "        text-align: right;\n",
       "    }\n",
       "</style>\n",
       "<table border=\"1\" class=\"dataframe\">\n",
       "  <thead>\n",
       "    <tr style=\"text-align: right;\">\n",
       "      <th></th>\n",
       "      <th>type</th>\n",
       "      <th>fixed acidity</th>\n",
       "      <th>volatile acidity</th>\n",
       "      <th>citric acid</th>\n",
       "      <th>residual sugar</th>\n",
       "      <th>chlorides</th>\n",
       "      <th>free sulfur dioxide</th>\n",
       "      <th>total sulfur dioxide</th>\n",
       "      <th>density</th>\n",
       "      <th>pH</th>\n",
       "      <th>sulphates</th>\n",
       "      <th>alcohol</th>\n",
       "      <th>quality</th>\n",
       "    </tr>\n",
       "  </thead>\n",
       "  <tbody>\n",
       "    <tr>\n",
       "      <th>0</th>\n",
       "      <td>white</td>\n",
       "      <td>7.0</td>\n",
       "      <td>0.27</td>\n",
       "      <td>0.36</td>\n",
       "      <td>20.7</td>\n",
       "      <td>0.045</td>\n",
       "      <td>45.0</td>\n",
       "      <td>170.0</td>\n",
       "      <td>1.0010</td>\n",
       "      <td>3.00</td>\n",
       "      <td>0.45</td>\n",
       "      <td>8.8</td>\n",
       "      <td>6</td>\n",
       "    </tr>\n",
       "    <tr>\n",
       "      <th>1</th>\n",
       "      <td>white</td>\n",
       "      <td>6.3</td>\n",
       "      <td>0.30</td>\n",
       "      <td>0.34</td>\n",
       "      <td>1.6</td>\n",
       "      <td>0.049</td>\n",
       "      <td>14.0</td>\n",
       "      <td>132.0</td>\n",
       "      <td>0.9940</td>\n",
       "      <td>3.30</td>\n",
       "      <td>0.49</td>\n",
       "      <td>9.5</td>\n",
       "      <td>6</td>\n",
       "    </tr>\n",
       "    <tr>\n",
       "      <th>2</th>\n",
       "      <td>white</td>\n",
       "      <td>8.1</td>\n",
       "      <td>0.28</td>\n",
       "      <td>0.40</td>\n",
       "      <td>6.9</td>\n",
       "      <td>0.050</td>\n",
       "      <td>30.0</td>\n",
       "      <td>97.0</td>\n",
       "      <td>0.9951</td>\n",
       "      <td>3.26</td>\n",
       "      <td>0.44</td>\n",
       "      <td>10.1</td>\n",
       "      <td>6</td>\n",
       "    </tr>\n",
       "    <tr>\n",
       "      <th>3</th>\n",
       "      <td>white</td>\n",
       "      <td>7.2</td>\n",
       "      <td>0.23</td>\n",
       "      <td>0.32</td>\n",
       "      <td>8.5</td>\n",
       "      <td>0.058</td>\n",
       "      <td>47.0</td>\n",
       "      <td>186.0</td>\n",
       "      <td>0.9956</td>\n",
       "      <td>3.19</td>\n",
       "      <td>0.40</td>\n",
       "      <td>9.9</td>\n",
       "      <td>6</td>\n",
       "    </tr>\n",
       "    <tr>\n",
       "      <th>4</th>\n",
       "      <td>white</td>\n",
       "      <td>7.2</td>\n",
       "      <td>0.23</td>\n",
       "      <td>0.32</td>\n",
       "      <td>8.5</td>\n",
       "      <td>0.058</td>\n",
       "      <td>47.0</td>\n",
       "      <td>186.0</td>\n",
       "      <td>0.9956</td>\n",
       "      <td>3.19</td>\n",
       "      <td>0.40</td>\n",
       "      <td>9.9</td>\n",
       "      <td>6</td>\n",
       "    </tr>\n",
       "  </tbody>\n",
       "</table>\n",
       "</div>"
      ],
      "text/plain": [
       "    type  fixed acidity  volatile acidity  citric acid  residual sugar  \\\n",
       "0  white            7.0              0.27         0.36            20.7   \n",
       "1  white            6.3              0.30         0.34             1.6   \n",
       "2  white            8.1              0.28         0.40             6.9   \n",
       "3  white            7.2              0.23         0.32             8.5   \n",
       "4  white            7.2              0.23         0.32             8.5   \n",
       "\n",
       "   chlorides  free sulfur dioxide  total sulfur dioxide  density    pH  \\\n",
       "0      0.045                 45.0                 170.0   1.0010  3.00   \n",
       "1      0.049                 14.0                 132.0   0.9940  3.30   \n",
       "2      0.050                 30.0                  97.0   0.9951  3.26   \n",
       "3      0.058                 47.0                 186.0   0.9956  3.19   \n",
       "4      0.058                 47.0                 186.0   0.9956  3.19   \n",
       "\n",
       "   sulphates  alcohol  quality  \n",
       "0       0.45      8.8        6  \n",
       "1       0.49      9.5        6  \n",
       "2       0.44     10.1        6  \n",
       "3       0.40      9.9        6  \n",
       "4       0.40      9.9        6  "
      ]
     },
     "execution_count": 38,
     "metadata": {},
     "output_type": "execute_result"
    }
   ],
   "source": [
    "white_df.head()"
   ]
  },
  {
   "cell_type": "code",
   "execution_count": 39,
   "id": "e5594139-44d5-447c-bf78-e22de600cee9",
   "metadata": {
    "scrolled": true
   },
   "outputs": [
    {
     "ename": "ValueError",
     "evalue": "cannot insert type, already exists",
     "output_type": "error",
     "traceback": [
      "\u001b[1;31m---------------------------------------------------------------------------\u001b[0m",
      "\u001b[1;31mValueError\u001b[0m                                Traceback (most recent call last)",
      "Cell \u001b[1;32mIn[39], line 1\u001b[0m\n\u001b[1;32m----> 1\u001b[0m white_df\u001b[38;5;241m.\u001b[39minsert(\u001b[38;5;241m0\u001b[39m, column \u001b[38;5;241m=\u001b[39m \u001b[38;5;124m\"\u001b[39m\u001b[38;5;124mtype\u001b[39m\u001b[38;5;124m\"\u001b[39m, value \u001b[38;5;241m=\u001b[39m \u001b[38;5;124m\"\u001b[39m\u001b[38;5;124mwhite\u001b[39m\u001b[38;5;124m\"\u001b[39m)\n\u001b[0;32m      2\u001b[0m white_df\u001b[38;5;241m.\u001b[39mhead()\n",
      "File \u001b[1;32m~\\anaconda3\\Lib\\site-packages\\pandas\\core\\frame.py:4931\u001b[0m, in \u001b[0;36mDataFrame.insert\u001b[1;34m(self, loc, column, value, allow_duplicates)\u001b[0m\n\u001b[0;32m   4925\u001b[0m     \u001b[38;5;28;01mraise\u001b[39;00m \u001b[38;5;167;01mValueError\u001b[39;00m(\n\u001b[0;32m   4926\u001b[0m         \u001b[38;5;124m\"\u001b[39m\u001b[38;5;124mCannot specify \u001b[39m\u001b[38;5;124m'\u001b[39m\u001b[38;5;124mallow_duplicates=True\u001b[39m\u001b[38;5;124m'\u001b[39m\u001b[38;5;124m when \u001b[39m\u001b[38;5;124m\"\u001b[39m\n\u001b[0;32m   4927\u001b[0m         \u001b[38;5;124m\"\u001b[39m\u001b[38;5;124m'\u001b[39m\u001b[38;5;124mself.flags.allows_duplicate_labels\u001b[39m\u001b[38;5;124m'\u001b[39m\u001b[38;5;124m is False.\u001b[39m\u001b[38;5;124m\"\u001b[39m\n\u001b[0;32m   4928\u001b[0m     )\n\u001b[0;32m   4929\u001b[0m \u001b[38;5;28;01mif\u001b[39;00m \u001b[38;5;129;01mnot\u001b[39;00m allow_duplicates \u001b[38;5;129;01mand\u001b[39;00m column \u001b[38;5;129;01min\u001b[39;00m \u001b[38;5;28mself\u001b[39m\u001b[38;5;241m.\u001b[39mcolumns:\n\u001b[0;32m   4930\u001b[0m     \u001b[38;5;66;03m# Should this be a different kind of error??\u001b[39;00m\n\u001b[1;32m-> 4931\u001b[0m     \u001b[38;5;28;01mraise\u001b[39;00m \u001b[38;5;167;01mValueError\u001b[39;00m(\u001b[38;5;124mf\u001b[39m\u001b[38;5;124m\"\u001b[39m\u001b[38;5;124mcannot insert \u001b[39m\u001b[38;5;132;01m{\u001b[39;00mcolumn\u001b[38;5;132;01m}\u001b[39;00m\u001b[38;5;124m, already exists\u001b[39m\u001b[38;5;124m\"\u001b[39m)\n\u001b[0;32m   4932\u001b[0m \u001b[38;5;28;01mif\u001b[39;00m \u001b[38;5;129;01mnot\u001b[39;00m is_integer(loc):\n\u001b[0;32m   4933\u001b[0m     \u001b[38;5;28;01mraise\u001b[39;00m \u001b[38;5;167;01mTypeError\u001b[39;00m(\u001b[38;5;124m\"\u001b[39m\u001b[38;5;124mloc must be int\u001b[39m\u001b[38;5;124m\"\u001b[39m)\n",
      "\u001b[1;31mValueError\u001b[0m: cannot insert type, already exists"
     ]
    }
   ],
   "source": [
    "white_df.insert(0, column = \"type\", value = \"white\")\n",
    "white_df.head()"
   ]
  },
  {
   "cell_type": "code",
   "execution_count": 14,
   "id": "c48ba005-1a31-48f8-958d-dbf5da1a6749",
   "metadata": {},
   "outputs": [
    {
     "data": {
      "text/plain": [
       "(4898, 13)"
      ]
     },
     "execution_count": 14,
     "metadata": {},
     "output_type": "execute_result"
    }
   ],
   "source": [
    "white_df.shape"
   ]
  },
  {
   "cell_type": "code",
   "execution_count": 15,
   "id": "80ee1bb8-8261-4d6c-8ea3-aaa64f899853",
   "metadata": {},
   "outputs": [
    {
     "data": {
      "text/plain": [
       "(6497, 13)"
      ]
     },
     "execution_count": 15,
     "metadata": {},
     "output_type": "execute_result"
    }
   ],
   "source": [
    "wine = pd.concat([red_df, white_df]) # red와인, white와인 합침\n",
    "wine.shape"
   ]
  },
  {
   "cell_type": "code",
   "execution_count": 16,
   "id": "e6c92983-cfd7-4529-83a7-9dd4c3b863ff",
   "metadata": {},
   "outputs": [],
   "source": [
    "wine.to_csv(\"C:/Users/kgw19/Data-science-project/description statics.wine.csv\", index = False)  # 합친 데이터를 csv파일 생성"
   ]
  },
  {
   "cell_type": "markdown",
   "id": "bb1375e8-9314-490c-b532-f8e37d7c0de1",
   "metadata": {},
   "source": [
    "## 데이터 탐색\n",
    "앞서 준비한 wine.csv 파일의 데이터를 기술 통계 방법으로 탐색"
   ]
  },
  {
   "cell_type": "code",
   "execution_count": 40,
   "id": "132a7423-0bdf-47b1-a8a1-d0d58299265b",
   "metadata": {},
   "outputs": [
    {
     "name": "stdout",
     "output_type": "stream",
     "text": [
      "<class 'pandas.core.frame.DataFrame'>\n",
      "Index: 6497 entries, 0 to 4897\n",
      "Data columns (total 13 columns):\n",
      " #   Column                                     Non-Null Count  Dtype  \n",
      "---  ------                                     --------------  -----  \n",
      " 0   _t_y_p_e_                                  6497 non-null   object \n",
      " 1   _f_i_x_e_d___a_c_i_d_i_t_y_                6497 non-null   float64\n",
      " 2   _v_o_l_a_t_i_l_e___a_c_i_d_i_t_y_          6497 non-null   float64\n",
      " 3   _c_i_t_r_i_c___a_c_i_d_                    6497 non-null   float64\n",
      " 4   _r_e_s_i_d_u_a_l___s_u_g_a_r_              6497 non-null   float64\n",
      " 5   _c_h_l_o_r_i_d_e_s_                        6497 non-null   float64\n",
      " 6   _f_r_e_e___s_u_l_f_u_r___d_i_o_x_i_d_e_    6497 non-null   float64\n",
      " 7   _t_o_t_a_l___s_u_l_f_u_r___d_i_o_x_i_d_e_  6497 non-null   float64\n",
      " 8   _d_e_n_s_i_t_y_                            6497 non-null   float64\n",
      " 9   _p_H_                                      6497 non-null   float64\n",
      " 10  _s_u_l_p_h_a_t_e_s_                        6497 non-null   float64\n",
      " 11  _a_l_c_o_h_o_l_                            6497 non-null   float64\n",
      " 12  _q_u_a_l_i_t_y_                            6497 non-null   int64  \n",
      "dtypes: float64(11), int64(1), object(1)\n",
      "memory usage: 710.6+ KB\n",
      "None\n"
     ]
    }
   ],
   "source": [
    "# 1. 기본 정보 확인 info()함수 사용\n",
    "# 밑에 결과를 보면 전체 샘플은 6,497개이고 속성을 나타내는 열은 13개인 것을 확인 가능\n",
    "'''\n",
    "각 속성의 이름은 type부터 quality이고 속성 중에서 실수타입 (float64)은 11개, 정수 타입 (int64)은 1개, 그리고 객체 타입(object) 은 1개,\n",
    "독립 변수(x)는 type부터 alcohol까지 12개이고 종속 변수(y)는 1개 (quality)이다.\n",
    "'''\n",
    "print(wine.info())"
   ]
  },
  {
   "cell_type": "code",
   "execution_count": 48,
   "id": "4030aa30-adb5-4dbb-80d9-7d50da1c073e",
   "metadata": {},
   "outputs": [
    {
     "data": {
      "text/html": [
       "<div>\n",
       "<style scoped>\n",
       "    .dataframe tbody tr th:only-of-type {\n",
       "        vertical-align: middle;\n",
       "    }\n",
       "\n",
       "    .dataframe tbody tr th {\n",
       "        vertical-align: top;\n",
       "    }\n",
       "\n",
       "    .dataframe thead th {\n",
       "        text-align: right;\n",
       "    }\n",
       "</style>\n",
       "<table border=\"1\" class=\"dataframe\">\n",
       "  <thead>\n",
       "    <tr style=\"text-align: right;\">\n",
       "      <th></th>\n",
       "      <th>_t_y_p_e_</th>\n",
       "      <th>_f_i_x_e_d___a_c_i_d_i_t_y_</th>\n",
       "      <th>_v_o_l_a_t_i_l_e___a_c_i_d_i_t_y_</th>\n",
       "      <th>_c_i_t_r_i_c___a_c_i_d_</th>\n",
       "      <th>_r_e_s_i_d_u_a_l___s_u_g_a_r_</th>\n",
       "      <th>_c_h_l_o_r_i_d_e_s_</th>\n",
       "      <th>_f_r_e_e___s_u_l_f_u_r___d_i_o_x_i_d_e_</th>\n",
       "      <th>_t_o_t_a_l___s_u_l_f_u_r___d_i_o_x_i_d_e_</th>\n",
       "      <th>_d_e_n_s_i_t_y_</th>\n",
       "      <th>_p_H_</th>\n",
       "      <th>_s_u_l_p_h_a_t_e_s_</th>\n",
       "      <th>_a_l_c_o_h_o_l_</th>\n",
       "      <th>_q_u_a_l_i_t_y_</th>\n",
       "    </tr>\n",
       "  </thead>\n",
       "  <tbody>\n",
       "    <tr>\n",
       "      <th>0</th>\n",
       "      <td>red</td>\n",
       "      <td>7.4</td>\n",
       "      <td>0.70</td>\n",
       "      <td>0.00</td>\n",
       "      <td>1.9</td>\n",
       "      <td>0.076</td>\n",
       "      <td>11.0</td>\n",
       "      <td>34.0</td>\n",
       "      <td>0.9978</td>\n",
       "      <td>3.51</td>\n",
       "      <td>0.56</td>\n",
       "      <td>9.4</td>\n",
       "      <td>5</td>\n",
       "    </tr>\n",
       "    <tr>\n",
       "      <th>1</th>\n",
       "      <td>red</td>\n",
       "      <td>7.8</td>\n",
       "      <td>0.88</td>\n",
       "      <td>0.00</td>\n",
       "      <td>2.6</td>\n",
       "      <td>0.098</td>\n",
       "      <td>25.0</td>\n",
       "      <td>67.0</td>\n",
       "      <td>0.9968</td>\n",
       "      <td>3.20</td>\n",
       "      <td>0.68</td>\n",
       "      <td>9.8</td>\n",
       "      <td>5</td>\n",
       "    </tr>\n",
       "    <tr>\n",
       "      <th>2</th>\n",
       "      <td>red</td>\n",
       "      <td>7.8</td>\n",
       "      <td>0.76</td>\n",
       "      <td>0.04</td>\n",
       "      <td>2.3</td>\n",
       "      <td>0.092</td>\n",
       "      <td>15.0</td>\n",
       "      <td>54.0</td>\n",
       "      <td>0.9970</td>\n",
       "      <td>3.26</td>\n",
       "      <td>0.65</td>\n",
       "      <td>9.8</td>\n",
       "      <td>5</td>\n",
       "    </tr>\n",
       "    <tr>\n",
       "      <th>3</th>\n",
       "      <td>red</td>\n",
       "      <td>11.2</td>\n",
       "      <td>0.28</td>\n",
       "      <td>0.56</td>\n",
       "      <td>1.9</td>\n",
       "      <td>0.075</td>\n",
       "      <td>17.0</td>\n",
       "      <td>60.0</td>\n",
       "      <td>0.9980</td>\n",
       "      <td>3.16</td>\n",
       "      <td>0.58</td>\n",
       "      <td>9.8</td>\n",
       "      <td>6</td>\n",
       "    </tr>\n",
       "    <tr>\n",
       "      <th>4</th>\n",
       "      <td>red</td>\n",
       "      <td>7.4</td>\n",
       "      <td>0.70</td>\n",
       "      <td>0.00</td>\n",
       "      <td>1.9</td>\n",
       "      <td>0.076</td>\n",
       "      <td>11.0</td>\n",
       "      <td>34.0</td>\n",
       "      <td>0.9978</td>\n",
       "      <td>3.51</td>\n",
       "      <td>0.56</td>\n",
       "      <td>9.4</td>\n",
       "      <td>5</td>\n",
       "    </tr>\n",
       "  </tbody>\n",
       "</table>\n",
       "</div>"
      ],
      "text/plain": [
       "  _t_y_p_e_  _f_i_x_e_d___a_c_i_d_i_t_y_  _v_o_l_a_t_i_l_e___a_c_i_d_i_t_y_  \\\n",
       "0       red                          7.4                               0.70   \n",
       "1       red                          7.8                               0.88   \n",
       "2       red                          7.8                               0.76   \n",
       "3       red                         11.2                               0.28   \n",
       "4       red                          7.4                               0.70   \n",
       "\n",
       "   _c_i_t_r_i_c___a_c_i_d_  _r_e_s_i_d_u_a_l___s_u_g_a_r_  \\\n",
       "0                     0.00                            1.9   \n",
       "1                     0.00                            2.6   \n",
       "2                     0.04                            2.3   \n",
       "3                     0.56                            1.9   \n",
       "4                     0.00                            1.9   \n",
       "\n",
       "   _c_h_l_o_r_i_d_e_s_  _f_r_e_e___s_u_l_f_u_r___d_i_o_x_i_d_e_  \\\n",
       "0                0.076                                     11.0   \n",
       "1                0.098                                     25.0   \n",
       "2                0.092                                     15.0   \n",
       "3                0.075                                     17.0   \n",
       "4                0.076                                     11.0   \n",
       "\n",
       "   _t_o_t_a_l___s_u_l_f_u_r___d_i_o_x_i_d_e_  _d_e_n_s_i_t_y_  _p_H_  \\\n",
       "0                                       34.0           0.9978   3.51   \n",
       "1                                       67.0           0.9968   3.20   \n",
       "2                                       54.0           0.9970   3.26   \n",
       "3                                       60.0           0.9980   3.16   \n",
       "4                                       34.0           0.9978   3.51   \n",
       "\n",
       "   _s_u_l_p_h_a_t_e_s_  _a_l_c_o_h_o_l_  _q_u_a_l_i_t_y_  \n",
       "0                 0.56              9.4                5  \n",
       "1                 0.68              9.8                5  \n",
       "2                 0.65              9.8                5  \n",
       "3                 0.58              9.8                6  \n",
       "4                 0.56              9.4                5  "
      ]
     },
     "execution_count": 48,
     "metadata": {},
     "output_type": "execute_result"
    }
   ],
   "source": [
    "# 함수를 사용해 기술 통계 구하기 \n",
    "'''\n",
    "pandas 라이브러리 패키지의 describe(), unique(), value_counts()함수를 사용해 수치형 변수에 대한 기술 통계를 구한다.\n",
    "'''\n",
    "wine_columns = wine.columns.str.replace('_', ' ')\n",
    "wine.head()"
   ]
  },
  {
   "cell_type": "code",
   "execution_count": 44,
   "id": "f1a40458-d4a7-4b2c-bd63-0bd4d78cb2b3",
   "metadata": {},
   "outputs": [
    {
     "data": {
      "text/html": [
       "<div>\n",
       "<style scoped>\n",
       "    .dataframe tbody tr th:only-of-type {\n",
       "        vertical-align: middle;\n",
       "    }\n",
       "\n",
       "    .dataframe tbody tr th {\n",
       "        vertical-align: top;\n",
       "    }\n",
       "\n",
       "    .dataframe thead th {\n",
       "        text-align: right;\n",
       "    }\n",
       "</style>\n",
       "<table border=\"1\" class=\"dataframe\">\n",
       "  <thead>\n",
       "    <tr style=\"text-align: right;\">\n",
       "      <th></th>\n",
       "      <th>_f_i_x_e_d___a_c_i_d_i_t_y_</th>\n",
       "      <th>_v_o_l_a_t_i_l_e___a_c_i_d_i_t_y_</th>\n",
       "      <th>_c_i_t_r_i_c___a_c_i_d_</th>\n",
       "      <th>_r_e_s_i_d_u_a_l___s_u_g_a_r_</th>\n",
       "      <th>_c_h_l_o_r_i_d_e_s_</th>\n",
       "      <th>_f_r_e_e___s_u_l_f_u_r___d_i_o_x_i_d_e_</th>\n",
       "      <th>_t_o_t_a_l___s_u_l_f_u_r___d_i_o_x_i_d_e_</th>\n",
       "      <th>_d_e_n_s_i_t_y_</th>\n",
       "      <th>_p_H_</th>\n",
       "      <th>_s_u_l_p_h_a_t_e_s_</th>\n",
       "      <th>_a_l_c_o_h_o_l_</th>\n",
       "      <th>_q_u_a_l_i_t_y_</th>\n",
       "    </tr>\n",
       "  </thead>\n",
       "  <tbody>\n",
       "    <tr>\n",
       "      <th>count</th>\n",
       "      <td>6497.000000</td>\n",
       "      <td>6497.000000</td>\n",
       "      <td>6497.000000</td>\n",
       "      <td>6497.000000</td>\n",
       "      <td>6497.000000</td>\n",
       "      <td>6497.000000</td>\n",
       "      <td>6497.000000</td>\n",
       "      <td>6497.000000</td>\n",
       "      <td>6497.000000</td>\n",
       "      <td>6497.000000</td>\n",
       "      <td>6497.000000</td>\n",
       "      <td>6497.000000</td>\n",
       "    </tr>\n",
       "    <tr>\n",
       "      <th>mean</th>\n",
       "      <td>7.215307</td>\n",
       "      <td>0.339666</td>\n",
       "      <td>0.318633</td>\n",
       "      <td>5.443235</td>\n",
       "      <td>0.056034</td>\n",
       "      <td>30.525319</td>\n",
       "      <td>115.744574</td>\n",
       "      <td>0.994697</td>\n",
       "      <td>3.218501</td>\n",
       "      <td>0.531268</td>\n",
       "      <td>10.491801</td>\n",
       "      <td>5.818378</td>\n",
       "    </tr>\n",
       "    <tr>\n",
       "      <th>std</th>\n",
       "      <td>1.296434</td>\n",
       "      <td>0.164636</td>\n",
       "      <td>0.145318</td>\n",
       "      <td>4.757804</td>\n",
       "      <td>0.035034</td>\n",
       "      <td>17.749400</td>\n",
       "      <td>56.521855</td>\n",
       "      <td>0.002999</td>\n",
       "      <td>0.160787</td>\n",
       "      <td>0.148806</td>\n",
       "      <td>1.192712</td>\n",
       "      <td>0.873255</td>\n",
       "    </tr>\n",
       "    <tr>\n",
       "      <th>min</th>\n",
       "      <td>3.800000</td>\n",
       "      <td>0.080000</td>\n",
       "      <td>0.000000</td>\n",
       "      <td>0.600000</td>\n",
       "      <td>0.009000</td>\n",
       "      <td>1.000000</td>\n",
       "      <td>6.000000</td>\n",
       "      <td>0.987110</td>\n",
       "      <td>2.720000</td>\n",
       "      <td>0.220000</td>\n",
       "      <td>8.000000</td>\n",
       "      <td>3.000000</td>\n",
       "    </tr>\n",
       "    <tr>\n",
       "      <th>25%</th>\n",
       "      <td>6.400000</td>\n",
       "      <td>0.230000</td>\n",
       "      <td>0.250000</td>\n",
       "      <td>1.800000</td>\n",
       "      <td>0.038000</td>\n",
       "      <td>17.000000</td>\n",
       "      <td>77.000000</td>\n",
       "      <td>0.992340</td>\n",
       "      <td>3.110000</td>\n",
       "      <td>0.430000</td>\n",
       "      <td>9.500000</td>\n",
       "      <td>5.000000</td>\n",
       "    </tr>\n",
       "    <tr>\n",
       "      <th>50%</th>\n",
       "      <td>7.000000</td>\n",
       "      <td>0.290000</td>\n",
       "      <td>0.310000</td>\n",
       "      <td>3.000000</td>\n",
       "      <td>0.047000</td>\n",
       "      <td>29.000000</td>\n",
       "      <td>118.000000</td>\n",
       "      <td>0.994890</td>\n",
       "      <td>3.210000</td>\n",
       "      <td>0.510000</td>\n",
       "      <td>10.300000</td>\n",
       "      <td>6.000000</td>\n",
       "    </tr>\n",
       "    <tr>\n",
       "      <th>75%</th>\n",
       "      <td>7.700000</td>\n",
       "      <td>0.400000</td>\n",
       "      <td>0.390000</td>\n",
       "      <td>8.100000</td>\n",
       "      <td>0.065000</td>\n",
       "      <td>41.000000</td>\n",
       "      <td>156.000000</td>\n",
       "      <td>0.996990</td>\n",
       "      <td>3.320000</td>\n",
       "      <td>0.600000</td>\n",
       "      <td>11.300000</td>\n",
       "      <td>6.000000</td>\n",
       "    </tr>\n",
       "    <tr>\n",
       "      <th>max</th>\n",
       "      <td>15.900000</td>\n",
       "      <td>1.580000</td>\n",
       "      <td>1.660000</td>\n",
       "      <td>65.800000</td>\n",
       "      <td>0.611000</td>\n",
       "      <td>289.000000</td>\n",
       "      <td>440.000000</td>\n",
       "      <td>1.038980</td>\n",
       "      <td>4.010000</td>\n",
       "      <td>2.000000</td>\n",
       "      <td>14.900000</td>\n",
       "      <td>9.000000</td>\n",
       "    </tr>\n",
       "  </tbody>\n",
       "</table>\n",
       "</div>"
      ],
      "text/plain": [
       "       _f_i_x_e_d___a_c_i_d_i_t_y_  _v_o_l_a_t_i_l_e___a_c_i_d_i_t_y_  \\\n",
       "count                  6497.000000                        6497.000000   \n",
       "mean                      7.215307                           0.339666   \n",
       "std                       1.296434                           0.164636   \n",
       "min                       3.800000                           0.080000   \n",
       "25%                       6.400000                           0.230000   \n",
       "50%                       7.000000                           0.290000   \n",
       "75%                       7.700000                           0.400000   \n",
       "max                      15.900000                           1.580000   \n",
       "\n",
       "       _c_i_t_r_i_c___a_c_i_d_  _r_e_s_i_d_u_a_l___s_u_g_a_r_  \\\n",
       "count              6497.000000                    6497.000000   \n",
       "mean                  0.318633                       5.443235   \n",
       "std                   0.145318                       4.757804   \n",
       "min                   0.000000                       0.600000   \n",
       "25%                   0.250000                       1.800000   \n",
       "50%                   0.310000                       3.000000   \n",
       "75%                   0.390000                       8.100000   \n",
       "max                   1.660000                      65.800000   \n",
       "\n",
       "       _c_h_l_o_r_i_d_e_s_  _f_r_e_e___s_u_l_f_u_r___d_i_o_x_i_d_e_  \\\n",
       "count          6497.000000                              6497.000000   \n",
       "mean              0.056034                                30.525319   \n",
       "std               0.035034                                17.749400   \n",
       "min               0.009000                                 1.000000   \n",
       "25%               0.038000                                17.000000   \n",
       "50%               0.047000                                29.000000   \n",
       "75%               0.065000                                41.000000   \n",
       "max               0.611000                               289.000000   \n",
       "\n",
       "       _t_o_t_a_l___s_u_l_f_u_r___d_i_o_x_i_d_e_  _d_e_n_s_i_t_y_  \\\n",
       "count                                6497.000000      6497.000000   \n",
       "mean                                  115.744574         0.994697   \n",
       "std                                    56.521855         0.002999   \n",
       "min                                     6.000000         0.987110   \n",
       "25%                                    77.000000         0.992340   \n",
       "50%                                   118.000000         0.994890   \n",
       "75%                                   156.000000         0.996990   \n",
       "max                                   440.000000         1.038980   \n",
       "\n",
       "             _p_H_  _s_u_l_p_h_a_t_e_s_  _a_l_c_o_h_o_l_  _q_u_a_l_i_t_y_  \n",
       "count  6497.000000          6497.000000      6497.000000      6497.000000  \n",
       "mean      3.218501             0.531268        10.491801         5.818378  \n",
       "std       0.160787             0.148806         1.192712         0.873255  \n",
       "min       2.720000             0.220000         8.000000         3.000000  \n",
       "25%       3.110000             0.430000         9.500000         5.000000  \n",
       "50%       3.210000             0.510000        10.300000         6.000000  \n",
       "75%       3.320000             0.600000        11.300000         6.000000  \n",
       "max       4.010000             2.000000        14.900000         9.000000  "
      ]
     },
     "execution_count": 44,
     "metadata": {},
     "output_type": "execute_result"
    }
   ],
   "source": [
    "wine.describe()\n",
    "# describe()함수를 사용하여 속성별 개수 count, 평균mean, 표준편차 std, 최소값 min, 전체 데이터 백분율에 대한 25째 백분위수 25% ...출력"
   ]
  },
  {
   "cell_type": "code",
   "execution_count": 51,
   "id": "dc94a0c6-66ed-4d40-9def-e6dc124abe96",
   "metadata": {},
   "outputs": [
    {
     "data": {
      "text/plain": [
       "[3, 4, 5, 6, 7, 8, 9]"
      ]
     },
     "execution_count": 51,
     "metadata": {},
     "output_type": "execute_result"
    }
   ],
   "source": [
    "sorted(wine._q_u_a_l_i_t_y_.unique())  # 와인 품질 등급 3,4,5,6,7,8,9  -> 7개 등급이 있다는걸 알 수 있음"
   ]
  },
  {
   "cell_type": "code",
   "execution_count": 50,
   "id": "90253b37-5104-4999-9e58-e785074d0f0f",
   "metadata": {},
   "outputs": [
    {
     "data": {
      "text/plain": [
       "_q_u_a_l_i_t_y_\n",
       "6    2836\n",
       "5    2138\n",
       "7    1079\n",
       "4     216\n",
       "8     193\n",
       "3      30\n",
       "9       5\n",
       "Name: count, dtype: int64"
      ]
     },
     "execution_count": 50,
     "metadata": {},
     "output_type": "execute_result"
    }
   ],
   "source": [
    "wine._q_u_a_l_i_t_y_.value_counts()   # quality 속성값에 대한 빈도수를 보여줌. 6등급인 샘풀이 제일 많은것을 확인가능. 9등급 샘플이 제일 적은것도 확인가능"
   ]
  },
  {
   "cell_type": "markdown",
   "id": "7319b3d2-35d9-4e8c-9865-9538910b446b",
   "metadata": {},
   "source": [
    "## 데이터 모델링\n",
    "기술 통계를 사용해 데이터에서 탐색한 내용으로 레드 와인 그룹과 화이트 와인 그룹을 비교한 뒤 품질 등급을 예측하기 위한 분석 모델을 만들기"
   ]
  },
  {
   "cell_type": "code",
   "execution_count": 58,
   "id": "e98bf7a6-417f-495c-9b6e-25388b0aa012",
   "metadata": {},
   "outputs": [
    {
     "data": {
      "text/html": [
       "<div>\n",
       "<style scoped>\n",
       "    .dataframe tbody tr th:only-of-type {\n",
       "        vertical-align: middle;\n",
       "    }\n",
       "\n",
       "    .dataframe tbody tr th {\n",
       "        vertical-align: top;\n",
       "    }\n",
       "\n",
       "    .dataframe thead th {\n",
       "        text-align: right;\n",
       "    }\n",
       "</style>\n",
       "<table border=\"1\" class=\"dataframe\">\n",
       "  <thead>\n",
       "    <tr style=\"text-align: right;\">\n",
       "      <th></th>\n",
       "      <th>count</th>\n",
       "      <th>mean</th>\n",
       "      <th>std</th>\n",
       "      <th>min</th>\n",
       "      <th>25%</th>\n",
       "      <th>50%</th>\n",
       "      <th>75%</th>\n",
       "      <th>max</th>\n",
       "    </tr>\n",
       "    <tr>\n",
       "      <th>_t_y_p_e_</th>\n",
       "      <th></th>\n",
       "      <th></th>\n",
       "      <th></th>\n",
       "      <th></th>\n",
       "      <th></th>\n",
       "      <th></th>\n",
       "      <th></th>\n",
       "      <th></th>\n",
       "    </tr>\n",
       "  </thead>\n",
       "  <tbody>\n",
       "    <tr>\n",
       "      <th>red</th>\n",
       "      <td>1599.0</td>\n",
       "      <td>5.636023</td>\n",
       "      <td>0.807569</td>\n",
       "      <td>3.0</td>\n",
       "      <td>5.0</td>\n",
       "      <td>6.0</td>\n",
       "      <td>6.0</td>\n",
       "      <td>8.0</td>\n",
       "    </tr>\n",
       "    <tr>\n",
       "      <th>white</th>\n",
       "      <td>4898.0</td>\n",
       "      <td>5.877909</td>\n",
       "      <td>0.885639</td>\n",
       "      <td>3.0</td>\n",
       "      <td>5.0</td>\n",
       "      <td>6.0</td>\n",
       "      <td>6.0</td>\n",
       "      <td>9.0</td>\n",
       "    </tr>\n",
       "  </tbody>\n",
       "</table>\n",
       "</div>"
      ],
      "text/plain": [
       "            count      mean       std  min  25%  50%  75%  max\n",
       "_t_y_p_e_                                                     \n",
       "red        1599.0  5.636023  0.807569  3.0  5.0  6.0  6.0  8.0\n",
       "white      4898.0  5.877909  0.885639  3.0  5.0  6.0  6.0  9.0"
      ]
     },
     "execution_count": 58,
     "metadata": {},
     "output_type": "execute_result"
    }
   ],
   "source": [
    "wine.groupby('_t_y_p_e_')['_q_u_a_l_i_t_y_'].describe()\n",
    "# 레드 와인과 화이트 와인을 구분하는 속성인 type을 기준으로 그룹을 나눈 뒤 그룹 안에서 quality 속성을 기준으로 기술 통계를 구한다."
   ]
  },
  {
   "cell_type": "code",
   "execution_count": 59,
   "id": "4d96df37-4f9e-4806-a193-82ba01603e5f",
   "metadata": {},
   "outputs": [
    {
     "data": {
      "text/plain": [
       "_t_y_p_e_\n",
       "red      5.636023\n",
       "white    5.877909\n",
       "Name: _q_u_a_l_i_t_y_, dtype: float64"
      ]
     },
     "execution_count": 59,
     "metadata": {},
     "output_type": "execute_result"
    }
   ],
   "source": [
    "wine.groupby('_t_y_p_e_')['_q_u_a_l_i_t_y_'].mean()\n",
    "# 기술 통계 전부를 구할 때는 describe()함수를 사용하지만 mean()함수로 평균만 구하거나 std()함수로 표준편차만 구할 수도 있음\n",
    "# mean()함수와 std()함수를 묶어서 한 번에 사용하려면 agg()함수를 사용함"
   ]
  },
  {
   "cell_type": "code",
   "execution_count": 60,
   "id": "024a0a72-022a-4857-8951-1ccc6721625a",
   "metadata": {},
   "outputs": [
    {
     "data": {
      "text/plain": [
       "_t_y_p_e_\n",
       "red      0.807569\n",
       "white    0.885639\n",
       "Name: _q_u_a_l_i_t_y_, dtype: float64"
      ]
     },
     "execution_count": 60,
     "metadata": {},
     "output_type": "execute_result"
    }
   ],
   "source": [
    "wine.groupby('_t_y_p_e_')['_q_u_a_l_i_t_y_'].std()"
   ]
  },
  {
   "cell_type": "code",
   "execution_count": 66,
   "id": "e1f3ffa9-a22d-4ef5-b218-5f1ed57fafa2",
   "metadata": {},
   "outputs": [
    {
     "data": {
      "text/html": [
       "<div>\n",
       "<style scoped>\n",
       "    .dataframe tbody tr th:only-of-type {\n",
       "        vertical-align: middle;\n",
       "    }\n",
       "\n",
       "    .dataframe tbody tr th {\n",
       "        vertical-align: top;\n",
       "    }\n",
       "\n",
       "    .dataframe thead th {\n",
       "        text-align: right;\n",
       "    }\n",
       "</style>\n",
       "<table border=\"1\" class=\"dataframe\">\n",
       "  <thead>\n",
       "    <tr style=\"text-align: right;\">\n",
       "      <th></th>\n",
       "      <th>mean</th>\n",
       "      <th>std</th>\n",
       "      <th>min</th>\n",
       "      <th>count</th>\n",
       "    </tr>\n",
       "    <tr>\n",
       "      <th>_t_y_p_e_</th>\n",
       "      <th></th>\n",
       "      <th></th>\n",
       "      <th></th>\n",
       "      <th></th>\n",
       "    </tr>\n",
       "  </thead>\n",
       "  <tbody>\n",
       "    <tr>\n",
       "      <th>red</th>\n",
       "      <td>5.636023</td>\n",
       "      <td>0.807569</td>\n",
       "      <td>3</td>\n",
       "      <td>1599</td>\n",
       "    </tr>\n",
       "    <tr>\n",
       "      <th>white</th>\n",
       "      <td>5.877909</td>\n",
       "      <td>0.885639</td>\n",
       "      <td>3</td>\n",
       "      <td>4898</td>\n",
       "    </tr>\n",
       "  </tbody>\n",
       "</table>\n",
       "</div>"
      ],
      "text/plain": [
       "               mean       std  min  count\n",
       "_t_y_p_e_                                \n",
       "red        5.636023  0.807569    3   1599\n",
       "white      5.877909  0.885639    3   4898"
      ]
     },
     "execution_count": 66,
     "metadata": {},
     "output_type": "execute_result"
    }
   ],
   "source": [
    "wine.groupby('_t_y_p_e_')['_q_u_a_l_i_t_y_'].agg(['mean', 'std', 'min', 'count'])"
   ]
  },
  {
   "cell_type": "markdown",
   "id": "822edec0-8859-4896-9488-830d2cc01183",
   "metadata": {},
   "source": [
    "### t-검정과 회귀 분석으로 그룹 비교하기\n",
    "- 그룹을 비교하는 두 번째 방법은 t-검정을 사용하여 그룹 간 차이를 확인하는 것이고, 세 번째 방법은 회귀 분석을 수행하는 것이다.\n",
    "- t-검정을 위해서는 scripy 라이브러리 패키지를 사용\n",
    "- 회귀 분석을 위해서는 statsmodels 라이브러리 패키지를 사용"
   ]
  },
  {
   "cell_type": "code",
   "execution_count": 68,
   "id": "d923c0ac-3d48-46ce-80dc-f04fc67893e5",
   "metadata": {},
   "outputs": [
    {
     "name": "stdout",
     "output_type": "stream",
     "text": [
      "Requirement already satisfied: statsmodels in c:\\users\\kgw19\\anaconda3\\lib\\site-packages (0.14.0)\n",
      "Requirement already satisfied: numpy>=1.18 in c:\\users\\kgw19\\anaconda3\\lib\\site-packages (from statsmodels) (1.26.4)\n",
      "Requirement already satisfied: scipy!=1.9.2,>=1.4 in c:\\users\\kgw19\\anaconda3\\lib\\site-packages (from statsmodels) (1.11.4)\n",
      "Requirement already satisfied: pandas>=1.0 in c:\\users\\kgw19\\anaconda3\\lib\\site-packages (from statsmodels) (2.1.4)\n",
      "Requirement already satisfied: patsy>=0.5.2 in c:\\users\\kgw19\\anaconda3\\lib\\site-packages (from statsmodels) (0.5.3)\n",
      "Requirement already satisfied: packaging>=21.3 in c:\\users\\kgw19\\anaconda3\\lib\\site-packages (from statsmodels) (23.1)\n",
      "Requirement already satisfied: python-dateutil>=2.8.2 in c:\\users\\kgw19\\anaconda3\\lib\\site-packages (from pandas>=1.0->statsmodels) (2.8.2)\n",
      "Requirement already satisfied: pytz>=2020.1 in c:\\users\\kgw19\\anaconda3\\lib\\site-packages (from pandas>=1.0->statsmodels) (2023.3.post1)\n",
      "Requirement already satisfied: tzdata>=2022.1 in c:\\users\\kgw19\\anaconda3\\lib\\site-packages (from pandas>=1.0->statsmodels) (2023.3)\n",
      "Requirement already satisfied: six in c:\\users\\kgw19\\anaconda3\\lib\\site-packages (from patsy>=0.5.2->statsmodels) (1.16.0)\n",
      "Note: you may need to restart the kernel to use updated packages.\n"
     ]
    }
   ],
   "source": [
    "pip install statsmodels"
   ]
  },
  {
   "cell_type": "code",
   "execution_count": 69,
   "id": "8b009752-91e4-46bd-8e56-b3e8b547853a",
   "metadata": {},
   "outputs": [],
   "source": [
    "from scipy import stats\n",
    "from statsmodels.formula.api import ols, glm   "
   ]
  },
  {
   "cell_type": "code",
   "execution_count": 87,
   "id": "90c2fd14-48a1-4f8b-8712-46fdb6acf945",
   "metadata": {},
   "outputs": [
    {
     "data": {
      "text/html": [
       "<table class=\"simpletable\">\n",
       "<caption>OLS Regression Results</caption>\n",
       "<tr>\n",
       "  <th>Dep. Variable:</th>     <td>_q_u_a_l_i_t_y_</td> <th>  R-squared:         </th> <td>   0.292</td> \n",
       "</tr>\n",
       "<tr>\n",
       "  <th>Model:</th>                   <td>OLS</td>       <th>  Adj. R-squared:    </th> <td>   0.291</td> \n",
       "</tr>\n",
       "<tr>\n",
       "  <th>Method:</th>             <td>Least Squares</td>  <th>  F-statistic:       </th> <td>   243.3</td> \n",
       "</tr>\n",
       "<tr>\n",
       "  <th>Date:</th>             <td>Sat, 11 May 2024</td> <th>  Prob (F-statistic):</th>  <td>  0.00</td>  \n",
       "</tr>\n",
       "<tr>\n",
       "  <th>Time:</th>                 <td>17:41:17</td>     <th>  Log-Likelihood:    </th> <td> -7215.5</td> \n",
       "</tr>\n",
       "<tr>\n",
       "  <th>No. Observations:</th>      <td>  6497</td>      <th>  AIC:               </th> <td>1.445e+04</td>\n",
       "</tr>\n",
       "<tr>\n",
       "  <th>Df Residuals:</th>          <td>  6485</td>      <th>  BIC:               </th> <td>1.454e+04</td>\n",
       "</tr>\n",
       "<tr>\n",
       "  <th>Df Model:</th>              <td>    11</td>      <th>                     </th>     <td> </td>    \n",
       "</tr>\n",
       "<tr>\n",
       "  <th>Covariance Type:</th>      <td>nonrobust</td>    <th>                     </th>     <td> </td>    \n",
       "</tr>\n",
       "</table>\n",
       "<table class=\"simpletable\">\n",
       "<tr>\n",
       "                      <td></td>                         <th>coef</th>     <th>std err</th>      <th>t</th>      <th>P>|t|</th>  <th>[0.025</th>    <th>0.975]</th>  \n",
       "</tr>\n",
       "<tr>\n",
       "  <th>Intercept</th>                                 <td>   55.7627</td> <td>   11.894</td> <td>    4.688</td> <td> 0.000</td> <td>   32.447</td> <td>   79.079</td>\n",
       "</tr>\n",
       "<tr>\n",
       "  <th>_f_i_x_e_d___a_c_i_d_i_t_y_</th>               <td>    0.0677</td> <td>    0.016</td> <td>    4.346</td> <td> 0.000</td> <td>    0.037</td> <td>    0.098</td>\n",
       "</tr>\n",
       "<tr>\n",
       "  <th>_v_o_l_a_t_i_l_e___a_c_i_d_i_t_y_</th>         <td>   -1.3279</td> <td>    0.077</td> <td>  -17.162</td> <td> 0.000</td> <td>   -1.480</td> <td>   -1.176</td>\n",
       "</tr>\n",
       "<tr>\n",
       "  <th>_c_i_t_r_i_c___a_c_i_d_</th>                   <td>   -0.1097</td> <td>    0.080</td> <td>   -1.377</td> <td> 0.168</td> <td>   -0.266</td> <td>    0.046</td>\n",
       "</tr>\n",
       "<tr>\n",
       "  <th>_r_e_s_i_d_u_a_l___s_u_g_a_r_</th>             <td>    0.0436</td> <td>    0.005</td> <td>    8.449</td> <td> 0.000</td> <td>    0.033</td> <td>    0.054</td>\n",
       "</tr>\n",
       "<tr>\n",
       "  <th>_c_h_l_o_r_i_d_e_s_</th>                       <td>   -0.4837</td> <td>    0.333</td> <td>   -1.454</td> <td> 0.146</td> <td>   -1.136</td> <td>    0.168</td>\n",
       "</tr>\n",
       "<tr>\n",
       "  <th>_f_r_e_e___s_u_l_f_u_r___d_i_o_x_i_d_e_</th>   <td>    0.0060</td> <td>    0.001</td> <td>    7.948</td> <td> 0.000</td> <td>    0.004</td> <td>    0.007</td>\n",
       "</tr>\n",
       "<tr>\n",
       "  <th>_t_o_t_a_l___s_u_l_f_u_r___d_i_o_x_i_d_e_</th> <td>   -0.0025</td> <td>    0.000</td> <td>   -8.969</td> <td> 0.000</td> <td>   -0.003</td> <td>   -0.002</td>\n",
       "</tr>\n",
       "<tr>\n",
       "  <th>_d_e_n_s_i_t_y_</th>                           <td>  -54.9669</td> <td>   12.137</td> <td>   -4.529</td> <td> 0.000</td> <td>  -78.760</td> <td>  -31.173</td>\n",
       "</tr>\n",
       "<tr>\n",
       "  <th>_p_H_</th>                                     <td>    0.4393</td> <td>    0.090</td> <td>    4.861</td> <td> 0.000</td> <td>    0.262</td> <td>    0.616</td>\n",
       "</tr>\n",
       "<tr>\n",
       "  <th>_s_u_l_p_h_a_t_e_s_</th>                       <td>    0.7683</td> <td>    0.076</td> <td>   10.092</td> <td> 0.000</td> <td>    0.619</td> <td>    0.917</td>\n",
       "</tr>\n",
       "<tr>\n",
       "  <th>_a_l_c_o_h_o_l_</th>                           <td>    0.2670</td> <td>    0.017</td> <td>   15.963</td> <td> 0.000</td> <td>    0.234</td> <td>    0.300</td>\n",
       "</tr>\n",
       "</table>\n",
       "<table class=\"simpletable\">\n",
       "<tr>\n",
       "  <th>Omnibus:</th>       <td>144.075</td> <th>  Durbin-Watson:     </th> <td>   1.646</td>\n",
       "</tr>\n",
       "<tr>\n",
       "  <th>Prob(Omnibus):</th> <td> 0.000</td>  <th>  Jarque-Bera (JB):  </th> <td> 324.712</td>\n",
       "</tr>\n",
       "<tr>\n",
       "  <th>Skew:</th>          <td>-0.006</td>  <th>  Prob(JB):          </th> <td>3.09e-71</td>\n",
       "</tr>\n",
       "<tr>\n",
       "  <th>Kurtosis:</th>      <td> 4.095</td>  <th>  Cond. No.          </th> <td>2.49e+05</td>\n",
       "</tr>\n",
       "</table><br/><br/>Notes:<br/>[1] Standard Errors assume that the covariance matrix of the errors is correctly specified.<br/>[2] The condition number is large, 2.49e+05. This might indicate that there are<br/>strong multicollinearity or other numerical problems."
      ],
      "text/latex": [
       "\\begin{center}\n",
       "\\begin{tabular}{lclc}\n",
       "\\toprule\n",
       "\\textbf{Dep. Variable:}                                                   & \\_q\\_u\\_a\\_l\\_i\\_t\\_y\\_ & \\textbf{  R-squared:         } &     0.292   \\\\\n",
       "\\textbf{Model:}                                                           &           OLS           & \\textbf{  Adj. R-squared:    } &     0.291   \\\\\n",
       "\\textbf{Method:}                                                          &      Least Squares      & \\textbf{  F-statistic:       } &     243.3   \\\\\n",
       "\\textbf{Date:}                                                            &     Sat, 11 May 2024    & \\textbf{  Prob (F-statistic):} &     0.00    \\\\\n",
       "\\textbf{Time:}                                                            &         17:41:17        & \\textbf{  Log-Likelihood:    } &   -7215.5   \\\\\n",
       "\\textbf{No. Observations:}                                                &            6497         & \\textbf{  AIC:               } & 1.445e+04   \\\\\n",
       "\\textbf{Df Residuals:}                                                    &            6485         & \\textbf{  BIC:               } & 1.454e+04   \\\\\n",
       "\\textbf{Df Model:}                                                        &              11         & \\textbf{                     } &             \\\\\n",
       "\\textbf{Covariance Type:}                                                 &        nonrobust        & \\textbf{                     } &             \\\\\n",
       "\\bottomrule\n",
       "\\end{tabular}\n",
       "\\begin{tabular}{lcccccc}\n",
       "                                                                          & \\textbf{coef} & \\textbf{std err} & \\textbf{t} & \\textbf{P$> |$t$|$} & \\textbf{[0.025} & \\textbf{0.975]}  \\\\\n",
       "\\midrule\n",
       "\\textbf{Intercept}                                                        &      55.7627  &       11.894     &     4.688  &         0.000        &       32.447    &       79.079     \\\\\n",
       "\\textbf{\\_f\\_i\\_x\\_e\\_d\\_\\_\\_a\\_c\\_i\\_d\\_i\\_t\\_y\\_}                       &       0.0677  &        0.016     &     4.346  &         0.000        &        0.037    &        0.098     \\\\\n",
       "\\textbf{\\_v\\_o\\_l\\_a\\_t\\_i\\_l\\_e\\_\\_\\_a\\_c\\_i\\_d\\_i\\_t\\_y\\_}              &      -1.3279  &        0.077     &   -17.162  &         0.000        &       -1.480    &       -1.176     \\\\\n",
       "\\textbf{\\_c\\_i\\_t\\_r\\_i\\_c\\_\\_\\_a\\_c\\_i\\_d\\_}                             &      -0.1097  &        0.080     &    -1.377  &         0.168        &       -0.266    &        0.046     \\\\\n",
       "\\textbf{\\_r\\_e\\_s\\_i\\_d\\_u\\_a\\_l\\_\\_\\_s\\_u\\_g\\_a\\_r\\_}                    &       0.0436  &        0.005     &     8.449  &         0.000        &        0.033    &        0.054     \\\\\n",
       "\\textbf{\\_c\\_h\\_l\\_o\\_r\\_i\\_d\\_e\\_s\\_}                                    &      -0.4837  &        0.333     &    -1.454  &         0.146        &       -1.136    &        0.168     \\\\\n",
       "\\textbf{\\_f\\_r\\_e\\_e\\_\\_\\_s\\_u\\_l\\_f\\_u\\_r\\_\\_\\_d\\_i\\_o\\_x\\_i\\_d\\_e\\_}    &       0.0060  &        0.001     &     7.948  &         0.000        &        0.004    &        0.007     \\\\\n",
       "\\textbf{\\_t\\_o\\_t\\_a\\_l\\_\\_\\_s\\_u\\_l\\_f\\_u\\_r\\_\\_\\_d\\_i\\_o\\_x\\_i\\_d\\_e\\_} &      -0.0025  &        0.000     &    -8.969  &         0.000        &       -0.003    &       -0.002     \\\\\n",
       "\\textbf{\\_d\\_e\\_n\\_s\\_i\\_t\\_y\\_}                                          &     -54.9669  &       12.137     &    -4.529  &         0.000        &      -78.760    &      -31.173     \\\\\n",
       "\\textbf{\\_p\\_H\\_}                                                         &       0.4393  &        0.090     &     4.861  &         0.000        &        0.262    &        0.616     \\\\\n",
       "\\textbf{\\_s\\_u\\_l\\_p\\_h\\_a\\_t\\_e\\_s\\_}                                    &       0.7683  &        0.076     &    10.092  &         0.000        &        0.619    &        0.917     \\\\\n",
       "\\textbf{\\_a\\_l\\_c\\_o\\_h\\_o\\_l\\_}                                          &       0.2670  &        0.017     &    15.963  &         0.000        &        0.234    &        0.300     \\\\\n",
       "\\bottomrule\n",
       "\\end{tabular}\n",
       "\\begin{tabular}{lclc}\n",
       "\\textbf{Omnibus:}       & 144.075 & \\textbf{  Durbin-Watson:     } &    1.646  \\\\\n",
       "\\textbf{Prob(Omnibus):} &   0.000 & \\textbf{  Jarque-Bera (JB):  } &  324.712  \\\\\n",
       "\\textbf{Skew:}          &  -0.006 & \\textbf{  Prob(JB):          } & 3.09e-71  \\\\\n",
       "\\textbf{Kurtosis:}      &   4.095 & \\textbf{  Cond. No.          } & 2.49e+05  \\\\\n",
       "\\bottomrule\n",
       "\\end{tabular}\n",
       "%\\caption{OLS Regression Results}\n",
       "\\end{center}\n",
       "\n",
       "Notes: \\newline\n",
       " [1] Standard Errors assume that the covariance matrix of the errors is correctly specified. \\newline\n",
       " [2] The condition number is large, 2.49e+05. This might indicate that there are \\newline\n",
       " strong multicollinearity or other numerical problems."
      ],
      "text/plain": [
       "<class 'statsmodels.iolib.summary.Summary'>\n",
       "\"\"\"\n",
       "                            OLS Regression Results                            \n",
       "==============================================================================\n",
       "Dep. Variable:        _q_u_a_l_i_t_y_   R-squared:                       0.292\n",
       "Model:                            OLS   Adj. R-squared:                  0.291\n",
       "Method:                 Least Squares   F-statistic:                     243.3\n",
       "Date:                Sat, 11 May 2024   Prob (F-statistic):               0.00\n",
       "Time:                        17:41:17   Log-Likelihood:                -7215.5\n",
       "No. Observations:                6497   AIC:                         1.445e+04\n",
       "Df Residuals:                    6485   BIC:                         1.454e+04\n",
       "Df Model:                          11                                         \n",
       "Covariance Type:            nonrobust                                         \n",
       "=============================================================================================================\n",
       "                                                coef    std err          t      P>|t|      [0.025      0.975]\n",
       "-------------------------------------------------------------------------------------------------------------\n",
       "Intercept                                    55.7627     11.894      4.688      0.000      32.447      79.079\n",
       "_f_i_x_e_d___a_c_i_d_i_t_y_                   0.0677      0.016      4.346      0.000       0.037       0.098\n",
       "_v_o_l_a_t_i_l_e___a_c_i_d_i_t_y_            -1.3279      0.077    -17.162      0.000      -1.480      -1.176\n",
       "_c_i_t_r_i_c___a_c_i_d_                      -0.1097      0.080     -1.377      0.168      -0.266       0.046\n",
       "_r_e_s_i_d_u_a_l___s_u_g_a_r_                 0.0436      0.005      8.449      0.000       0.033       0.054\n",
       "_c_h_l_o_r_i_d_e_s_                          -0.4837      0.333     -1.454      0.146      -1.136       0.168\n",
       "_f_r_e_e___s_u_l_f_u_r___d_i_o_x_i_d_e_       0.0060      0.001      7.948      0.000       0.004       0.007\n",
       "_t_o_t_a_l___s_u_l_f_u_r___d_i_o_x_i_d_e_    -0.0025      0.000     -8.969      0.000      -0.003      -0.002\n",
       "_d_e_n_s_i_t_y_                             -54.9669     12.137     -4.529      0.000     -78.760     -31.173\n",
       "_p_H_                                         0.4393      0.090      4.861      0.000       0.262       0.616\n",
       "_s_u_l_p_h_a_t_e_s_                           0.7683      0.076     10.092      0.000       0.619       0.917\n",
       "_a_l_c_o_h_o_l_                               0.2670      0.017     15.963      0.000       0.234       0.300\n",
       "==============================================================================\n",
       "Omnibus:                      144.075   Durbin-Watson:                   1.646\n",
       "Prob(Omnibus):                  0.000   Jarque-Bera (JB):              324.712\n",
       "Skew:                          -0.006   Prob(JB):                     3.09e-71\n",
       "Kurtosis:                       4.095   Cond. No.                     2.49e+05\n",
       "==============================================================================\n",
       "\n",
       "Notes:\n",
       "[1] Standard Errors assume that the covariance matrix of the errors is correctly specified.\n",
       "[2] The condition number is large, 2.49e+05. This might indicate that there are\n",
       "strong multicollinearity or other numerical problems.\n",
       "\"\"\""
      ]
     },
     "execution_count": 87,
     "metadata": {},
     "output_type": "execute_result"
    }
   ],
   "source": [
    "'''\n",
    "Rformula = '_q_u_a_l_i_t_y_ ~ _f_i_x_e_d___a_c_i_d_i_t_y_ + _v_o_l_a_t_i_l_e___a_c_i_d_i_t_y_ + _c_i_t_r_i_c___a_c_i_d_ + _r_e_s_i_d_u_a_l___s_u_g_a_r_ + _c_h_l_o_r_i_d_e_s_ + _f_r_e_e___s_u_l_f_u_r___d_i_o_x_i_d_e_ + _t_o_t_a_l___s_u_l_f_u_r___d_i_o_x_i_d_e_ + _d_e_n_s_i_t_y_ + _p_H_ + _s_u_l_p_h_a_t_e_s_ + _a_l_c_o_h_o_l_'\n",
    "regression_result = ols(Rformula, data = wine).fit()\n",
    "regression_result.summary()\n",
    "\n",
    "아래의 코드에서 \"Rformula = '_q_u_a_l_i_t_y_ ~ _f_i_x_e_d___a_c_i_d_i_t_y_ + ... + _a_l_c_o_h_o_l_'\"\n",
    "부분에서 회귀 분석식의 종속 변수(y)와 독립 변수(x1 ~ x10)을 구성한다. 종속 변수는 quality가 되고 독립 변수는 type과 quality를 제외한 나머지 11개 속성이 된다.\n",
    "회귀식의 독립 변수는 연속된 값을 가진 변수만 사용할 수 있는데 type은 연속형 값이 아니고 'red'와 'white'를 값으로 하기 때문에 회귀식의 독립 변수 구성에서\n",
    "제외한다. \n",
    "\n",
    "\n",
    "종속 변수와 독립 변수를 구성하는 방식은 '종속 변수 ~ 독립변수1 + 독립변수2 + 독립변수3 + ... + 독립변수N' 이 된다.\n",
    "\n",
    "선형 회귀 모델 중에서 OLS(Ordinary Least Squares) 모델을 사용한다. statsmodels.formula.api 패키지의 ols() 함수는 첫 번째 인자로 종속 변수와\n",
    "독립 변수를 구성한 변수를 주고 두 번째 인자는 실제 변수값을 가진 데이터프레임을 지정한다. 완성된 선형 회귀 모델은 fit()함수에 의해 실행되어\n",
    "regression_result에 저장된다.\n",
    "'''\n",
    "\n",
    "red_wine_quality = wine.loc[wine['_t_y_p_e_']=='red', '_q_u_a_l_i_t_y_']  # 레드 와인의 quality 값만 찾아서 red_wind에 저장\n",
    "white_wine_quality = wine.loc[wine['_t_y_p_e_']=='white', '_q_u_a_l_i_t_y_']  # 화이트 와인의 quality 값만 찾아서 white_wine에 저장\n",
    "stats.ttest_ind(red_wine_quality, white_wine_quality, equal_var = False) # ttest_ind()함수를 사용하여 t-검정을 하고 두 그룹 간 차이를 확인\n",
    "Rformula = '_q_u_a_l_i_t_y_ ~ _f_i_x_e_d___a_c_i_d_i_t_y_ + _v_o_l_a_t_i_l_e___a_c_i_d_i_t_y_ + _c_i_t_r_i_c___a_c_i_d_ + _r_e_s_i_d_u_a_l___s_u_g_a_r_ + _c_h_l_o_r_i_d_e_s_ + _f_r_e_e___s_u_l_f_u_r___d_i_o_x_i_d_e_ + _t_o_t_a_l___s_u_l_f_u_r___d_i_o_x_i_d_e_ + _d_e_n_s_i_t_y_ + _p_H_ + _s_u_l_p_h_a_t_e_s_ + _a_l_c_o_h_o_l_'\n",
    "regression_result = ols(Rformula, data = wine).fit()\n",
    "regression_result.summary()"
   ]
  },
  {
   "cell_type": "code",
   "execution_count": 83,
   "id": "aec64481-c9fc-401b-8e1e-be4e5e13b628",
   "metadata": {},
   "outputs": [
    {
     "data": {
      "text/plain": [
       "TtestResult(statistic=-10.149363059143164, pvalue=8.168348870049682e-24, df=2950.750452166697)"
      ]
     },
     "execution_count": 83,
     "metadata": {},
     "output_type": "execute_result"
    }
   ],
   "source": [
    "stats.ttest_ind(red_wine_quality, white_wine_quality, equal_var = False)"
   ]
  },
  {
   "cell_type": "markdown",
   "id": "2d9ea4d3-99a6-42a7-b041-23065afc8b43",
   "metadata": {},
   "source": [
    "### 회귀 분석 모델로 새로운 샘플의 품질 등급 예측하기\n",
    "회귀 분석 모델을 이용해 새로운 샘플 데이터의 품질 등급을 예측하려면 먼저 독립 변수인 11개 속성에 대한 샘플 데이터가 필요하다. <br/>\n",
    "예측이 맞는지 확인하기 위해 기존 샘플 중에서 첫 번째 샘플에 대한 예측을 수행한다. 이를 위해 임의의 2개의 샘플을 만들어 예측을 수행해보자."
   ]
  },
  {
   "cell_type": "code",
   "execution_count": 101,
   "id": "de25a909-22e6-48c7-99d0-a67329a0d956",
   "metadata": {},
   "outputs": [
    {
     "data": {
      "text/plain": [
       "0    4.997607\n",
       "1    4.924993\n",
       "2    5.034663\n",
       "3    5.680333\n",
       "4    4.997607\n",
       "dtype: float64"
      ]
     },
     "execution_count": 101,
     "metadata": {},
     "output_type": "execute_result"
    }
   ],
   "source": [
    "sample1 = wine[wine.columns.difference(['quality', 'type'])]  # wine에서 quality 와 type열은 제외하고, 회귀 분석 모델에 사용할 독립 변수만 추출하여 sample1에 저장\n",
    "sample1 = sample1[0:5][:]  # sample1에 있는 샘플 중에서 0~4번까지 5개 샘플만 추출하고, sample1에 다시 저장하여 예측에 사용할 샘플을 만듬\n",
    "sample1_predict = regression_result.predict(sample1)  # 샘플 데이터를 회귀 분석 모델 regression_result에 예측함수 predict()에 적용하여 수행한뒤 결과 예측값을 sample_predict에 저장\n",
    "sample1_predict"
   ]
  },
  {
   "cell_type": "code",
   "execution_count": 94,
   "id": "a281531c-c542-4178-ae1e-8a07527c03cd",
   "metadata": {},
   "outputs": [
    {
     "data": {
      "text/plain": [
       "0    5\n",
       "1    5\n",
       "2    5\n",
       "3    6\n",
       "4    5\n",
       "Name: _q_u_a_l_i_t_y_, dtype: int64"
      ]
     },
     "execution_count": 94,
     "metadata": {},
     "output_type": "execute_result"
    }
   ],
   "source": [
    "wine[0:5]['_q_u_a_l_i_t_y_']  # wine에서 0번부터 4번까지 샘플의 quality 값을 출력하여 sample1_predict이 맞게 예측되었는지 확인"
   ]
  },
  {
   "cell_type": "code",
   "execution_count": 97,
   "id": "4f54fedc-5d8c-4140-88fe-cf545e82e8f2",
   "metadata": {},
   "outputs": [],
   "source": [
    "data = {\"_f_i_x_e_d___a_c_i_d_i_t_y_\" : [8.5, 8.1], \"_v_o_l_a_t_i_l_e___a_c_i_d_i_t_y_\" : [0.8, 0.5],\n",
    "       \"_c_i_t_r_i_c___a_c_i_d_\" : [0.3, 0.4], \"_r_e_s_i_d_u_a_l___s_u_g_a_r_\" : [6.1, 5.8], \"_c_h_l_o_r_i_d_e_s_\" : [0.055, 0.04],\n",
    "        \"_f_r_e_e___s_u_l_f_u_r___d_i_o_x_i_d_e_\" : [30.0, 31.0], \"_t_o_t_a_l___s_u_l_f_u_r___d_i_o_x_i_d_e_\" : [98.0, 99],\n",
    "        \"_d_e_n_s_i_t_y_\" : [0.996, 0.91], \"_p_H_\" : [3.25, 3.01], \"_s_u_l_p_h_a_t_e_s_\" : [0.4, 0.35], \"_a_l_c_o_h_o_l_\" : [9.0, 0.88]\n",
    "       }\n",
    "# 회귀식에 사용한 독립 변수에 대입할 임의의 값을 딕셔너리 형태로 만듬"
   ]
  },
  {
   "cell_type": "code",
   "execution_count": 98,
   "id": "96ed05e7-1586-4d32-8f80-9e4f09093499",
   "metadata": {},
   "outputs": [
    {
     "data": {
      "text/html": [
       "<div>\n",
       "<style scoped>\n",
       "    .dataframe tbody tr th:only-of-type {\n",
       "        vertical-align: middle;\n",
       "    }\n",
       "\n",
       "    .dataframe tbody tr th {\n",
       "        vertical-align: top;\n",
       "    }\n",
       "\n",
       "    .dataframe thead th {\n",
       "        text-align: right;\n",
       "    }\n",
       "</style>\n",
       "<table border=\"1\" class=\"dataframe\">\n",
       "  <thead>\n",
       "    <tr style=\"text-align: right;\">\n",
       "      <th></th>\n",
       "      <th>_a_l_c_o_h_o_l_</th>\n",
       "      <th>_c_h_l_o_r_i_d_e_s_</th>\n",
       "      <th>_c_i_t_r_i_c___a_c_i_d_</th>\n",
       "      <th>_d_e_n_s_i_t_y_</th>\n",
       "      <th>_f_i_x_e_d___a_c_i_d_i_t_y_</th>\n",
       "      <th>_f_r_e_e___s_u_l_f_u_r___d_i_o_x_i_d_e_</th>\n",
       "      <th>_p_H_</th>\n",
       "      <th>_q_u_a_l_i_t_y_</th>\n",
       "      <th>_r_e_s_i_d_u_a_l___s_u_g_a_r_</th>\n",
       "      <th>_s_u_l_p_h_a_t_e_s_</th>\n",
       "      <th>_t_o_t_a_l___s_u_l_f_u_r___d_i_o_x_i_d_e_</th>\n",
       "      <th>_t_y_p_e_</th>\n",
       "      <th>_v_o_l_a_t_i_l_e___a_c_i_d_i_t_y_</th>\n",
       "    </tr>\n",
       "  </thead>\n",
       "  <tbody>\n",
       "    <tr>\n",
       "      <th>0</th>\n",
       "      <td>9.00</td>\n",
       "      <td>0.055</td>\n",
       "      <td>0.3</td>\n",
       "      <td>0.996</td>\n",
       "      <td>8.5</td>\n",
       "      <td>30.0</td>\n",
       "      <td>3.25</td>\n",
       "      <td>NaN</td>\n",
       "      <td>6.1</td>\n",
       "      <td>0.40</td>\n",
       "      <td>98.0</td>\n",
       "      <td>NaN</td>\n",
       "      <td>0.8</td>\n",
       "    </tr>\n",
       "    <tr>\n",
       "      <th>1</th>\n",
       "      <td>0.88</td>\n",
       "      <td>0.040</td>\n",
       "      <td>0.4</td>\n",
       "      <td>0.910</td>\n",
       "      <td>8.1</td>\n",
       "      <td>31.0</td>\n",
       "      <td>3.01</td>\n",
       "      <td>NaN</td>\n",
       "      <td>5.8</td>\n",
       "      <td>0.35</td>\n",
       "      <td>99.0</td>\n",
       "      <td>NaN</td>\n",
       "      <td>0.5</td>\n",
       "    </tr>\n",
       "  </tbody>\n",
       "</table>\n",
       "</div>"
      ],
      "text/plain": [
       "   _a_l_c_o_h_o_l_  _c_h_l_o_r_i_d_e_s_  _c_i_t_r_i_c___a_c_i_d_  \\\n",
       "0             9.00                0.055                      0.3   \n",
       "1             0.88                0.040                      0.4   \n",
       "\n",
       "   _d_e_n_s_i_t_y_  _f_i_x_e_d___a_c_i_d_i_t_y_  \\\n",
       "0            0.996                          8.5   \n",
       "1            0.910                          8.1   \n",
       "\n",
       "   _f_r_e_e___s_u_l_f_u_r___d_i_o_x_i_d_e_  _p_H_ _q_u_a_l_i_t_y_  \\\n",
       "0                                     30.0   3.25             NaN   \n",
       "1                                     31.0   3.01             NaN   \n",
       "\n",
       "   _r_e_s_i_d_u_a_l___s_u_g_a_r_  _s_u_l_p_h_a_t_e_s_  \\\n",
       "0                            6.1                 0.40   \n",
       "1                            5.8                 0.35   \n",
       "\n",
       "   _t_o_t_a_l___s_u_l_f_u_r___d_i_o_x_i_d_e_ _t_y_p_e_  \\\n",
       "0                                       98.0       NaN   \n",
       "1                                       99.0       NaN   \n",
       "\n",
       "   _v_o_l_a_t_i_l_e___a_c_i_d_i_t_y_  \n",
       "0                                0.8  \n",
       "1                                0.5  "
      ]
     },
     "execution_count": 98,
     "metadata": {},
     "output_type": "execute_result"
    }
   ],
   "source": [
    "sample2 = pd.DataFrame(data, columns = sample1.columns) # 딕셔너리 형태의 값과 sample1 의 열 이름만 뽑아 데이터 프레임으로 묶은 sample2를 만듬\n",
    "sample2"
   ]
  },
  {
   "cell_type": "code",
   "execution_count": 102,
   "id": "b425b277-7cc0-4f20-9ab8-dc31146c1562",
   "metadata": {},
   "outputs": [
    {
     "data": {
      "text/plain": [
       "0    4.809094\n",
       "1    7.582129\n",
       "dtype: float64"
      ]
     },
     "execution_count": 102,
     "metadata": {},
     "output_type": "execute_result"
    }
   ],
   "source": [
    "sample2_predict = regression_result.predict(sample2)\n",
    "sample2_predict"
   ]
  },
  {
   "cell_type": "code",
   "execution_count": 104,
   "id": "d03b28df-3c6c-4edb-b2df-1db2b16920d9",
   "metadata": {},
   "outputs": [
    {
     "data": {
      "text/plain": [
       "0    5\n",
       "1    5\n",
       "Name: _q_u_a_l_i_t_y_, dtype: int64"
      ]
     },
     "execution_count": 104,
     "metadata": {},
     "output_type": "execute_result"
    }
   ],
   "source": [
    "wine[0:2]['_q_u_a_l_i_t_y_']"
   ]
  },
  {
   "cell_type": "markdown",
   "id": "4513de91-9b24-47d4-b6a1-79977a927a3c",
   "metadata": {},
   "source": [
    "## 결과 시각화\n",
    "분석 결과를 시각화하기 위해 와인 유형에 따른 품질 등급을 히스토그램과 부분 회귀 플롯으로 나타냄."
   ]
  },
  {
   "cell_type": "markdown",
   "id": "e38bed34-5bcf-4ede-8be5-d4c6dfac7f26",
   "metadata": {},
   "source": [
    "### 와인 유형에 따른 품질 등급 히스토그램 그리기\n",
    "결과를 시각화하여 나타내기 위해 와인 유형애 따른 품질 등급을 히스토그램으로 나타내보자.\n",
    "\n",
    "가로축 (X축) : 데이터의 구간을 나타낸다. 일반적으로 데이터의 값 범위를 나타내는데 사용 <br/>\n",
    "세로축 (Y축) : 각 구간에 속하는 데이터의 빈도나 상대 빈도를 나타냄. 이는 해당 구간에 속하는 데이터의 개수나 비율을 의미<br/>\n",
    "히스토그램은 데이터의 분포를 한눈에 파악할 수 있으며, 데이터의 모양이나 특성을 파악하는 데 유용함. <br/>\n",
    "특히 데이터의 중심 경향성, 분산, 왜도, 첨도 등의 통계적 특성을 시각적으로 확인하는 데에 활용"
   ]
  },
  {
   "cell_type": "code",
   "execution_count": 105,
   "id": "5158f463-33ec-4e69-8c49-b6eafaf4e7c2",
   "metadata": {},
   "outputs": [
    {
     "name": "stdout",
     "output_type": "stream",
     "text": [
      "Requirement already satisfied: seaborn in c:\\users\\kgw19\\anaconda3\\lib\\site-packages (0.12.2)\n",
      "Requirement already satisfied: numpy!=1.24.0,>=1.17 in c:\\users\\kgw19\\anaconda3\\lib\\site-packages (from seaborn) (1.26.4)\n",
      "Requirement already satisfied: pandas>=0.25 in c:\\users\\kgw19\\anaconda3\\lib\\site-packages (from seaborn) (2.1.4)\n",
      "Requirement already satisfied: matplotlib!=3.6.1,>=3.1 in c:\\users\\kgw19\\anaconda3\\lib\\site-packages (from seaborn) (3.8.0)\n",
      "Requirement already satisfied: contourpy>=1.0.1 in c:\\users\\kgw19\\anaconda3\\lib\\site-packages (from matplotlib!=3.6.1,>=3.1->seaborn) (1.2.0)\n",
      "Requirement already satisfied: cycler>=0.10 in c:\\users\\kgw19\\anaconda3\\lib\\site-packages (from matplotlib!=3.6.1,>=3.1->seaborn) (0.11.0)\n",
      "Requirement already satisfied: fonttools>=4.22.0 in c:\\users\\kgw19\\anaconda3\\lib\\site-packages (from matplotlib!=3.6.1,>=3.1->seaborn) (4.25.0)\n",
      "Requirement already satisfied: kiwisolver>=1.0.1 in c:\\users\\kgw19\\anaconda3\\lib\\site-packages (from matplotlib!=3.6.1,>=3.1->seaborn) (1.4.4)\n",
      "Requirement already satisfied: packaging>=20.0 in c:\\users\\kgw19\\anaconda3\\lib\\site-packages (from matplotlib!=3.6.1,>=3.1->seaborn) (23.1)\n",
      "Requirement already satisfied: pillow>=6.2.0 in c:\\users\\kgw19\\anaconda3\\lib\\site-packages (from matplotlib!=3.6.1,>=3.1->seaborn) (10.2.0)\n",
      "Requirement already satisfied: pyparsing>=2.3.1 in c:\\users\\kgw19\\anaconda3\\lib\\site-packages (from matplotlib!=3.6.1,>=3.1->seaborn) (3.0.9)\n",
      "Requirement already satisfied: python-dateutil>=2.7 in c:\\users\\kgw19\\anaconda3\\lib\\site-packages (from matplotlib!=3.6.1,>=3.1->seaborn) (2.8.2)\n",
      "Requirement already satisfied: pytz>=2020.1 in c:\\users\\kgw19\\anaconda3\\lib\\site-packages (from pandas>=0.25->seaborn) (2023.3.post1)\n",
      "Requirement already satisfied: tzdata>=2022.1 in c:\\users\\kgw19\\anaconda3\\lib\\site-packages (from pandas>=0.25->seaborn) (2023.3)\n",
      "Requirement already satisfied: six>=1.5 in c:\\users\\kgw19\\anaconda3\\lib\\site-packages (from python-dateutil>=2.7->matplotlib!=3.6.1,>=3.1->seaborn) (1.16.0)\n",
      "Note: you may need to restart the kernel to use updated packages.\n"
     ]
    }
   ],
   "source": [
    "pip install seaborn"
   ]
  },
  {
   "cell_type": "code",
   "execution_count": 106,
   "id": "c329c0ef-7215-4e43-a2a9-1b4893605d3d",
   "metadata": {},
   "outputs": [],
   "source": [
    "import matplotlib.pyplot as plt\n",
    "import seaborn as sns"
   ]
  },
  {
   "cell_type": "code",
   "execution_count": 114,
   "id": "83a2c691-e7ef-47c2-bb40-e59c0560f91f",
   "metadata": {},
   "outputs": [
    {
     "name": "stderr",
     "output_type": "stream",
     "text": [
      "C:\\Users\\kgw19\\anaconda3\\Lib\\site-packages\\seaborn\\_oldcore.py:1119: FutureWarning: use_inf_as_na option is deprecated and will be removed in a future version. Convert inf values to NaN before operating instead.\n",
      "  with pd.option_context('mode.use_inf_as_na', True):\n",
      "C:\\Users\\kgw19\\anaconda3\\Lib\\site-packages\\seaborn\\_oldcore.py:1119: FutureWarning: use_inf_as_na option is deprecated and will be removed in a future version. Convert inf values to NaN before operating instead.\n",
      "  with pd.option_context('mode.use_inf_as_na', True):\n"
     ]
    },
    {
     "data": {
      "image/png": "[encoded data removed]",
      "text/plain": [
       "<Figure size 640x480 with 1 Axes>"
      ]
     },
     "metadata": {},
     "output_type": "display_data"
    }
   ],
   "source": [
    "# 와인 유형에 따른 품질 등급 히스토그램\n",
    "sns.set_style('dark')\n",
    "sns.histplot(red_wine_quality, kde = True, color = 'red', label = 'red wine')\n",
    "sns.histplot(white_wine_quality, kde = True, label = \"white wine\")\n",
    "plt.title(\"Quality of Wine Type\")\n",
    "plt.legend()\n",
    "plt.show()"
   ]
  },
  {
   "cell_type": "markdown",
   "id": "ac831bc3-fd28-457f-a708-859aa1520cdb",
   "metadata": {},
   "source": [
    "### 부분 회귀 플롯으로 시각화하기\n",
    "\n",
    "구축한 다중 선형 회귀 분석 모델처럼 독립 변수가 2개 이상인 경우에는 부분 회귀 플롯을 사용하여 하나의 독립 변수가 종속 변수에 미치는 영향력을 시각화 함으로서 결과를 분석할 수 있다."
   ]
  },
  {
   "cell_type": "code",
   "execution_count": 127,
   "id": "2c739de3-b9c2-4f10-927e-2e47273e966a",
   "metadata": {},
   "outputs": [
    {
     "data": {
      "image/png": "[encoded data removed]",
      "text/plain": [
       "<Figure size 640x480 with 1 Axes>"
      ]
     },
     "metadata": {},
     "output_type": "display_data"
    },
    {
     "name": "stderr",
     "output_type": "stream",
     "text": [
      "C:\\Users\\kgw19\\anaconda3\\Lib\\site-packages\\statsmodels\\graphics\\regressionplots.py:430: FutureWarning: Series.__getitem__ treating keys as positions is deprecated. In a future version, integer keys will always be treated as labels (consistent with DataFrame behavior). To access a value by position, use `ser.iloc[pos]`\n",
      "  fig = abline_plot(0, fitted_line.params[0], color='k', ax=ax)\n",
      "C:\\Users\\kgw19\\anaconda3\\Lib\\site-packages\\statsmodels\\graphics\\regressionplots.py:430: FutureWarning: Series.__getitem__ treating keys as positions is deprecated. In a future version, integer keys will always be treated as labels (consistent with DataFrame behavior). To access a value by position, use `ser.iloc[pos]`\n",
      "  fig = abline_plot(0, fitted_line.params[0], color='k', ax=ax)\n",
      "C:\\Users\\kgw19\\anaconda3\\Lib\\site-packages\\statsmodels\\graphics\\regressionplots.py:430: FutureWarning: Series.__getitem__ treating keys as positions is deprecated. In a future version, integer keys will always be treated as labels (consistent with DataFrame behavior). To access a value by position, use `ser.iloc[pos]`\n",
      "  fig = abline_plot(0, fitted_line.params[0], color='k', ax=ax)\n",
      "C:\\Users\\kgw19\\anaconda3\\Lib\\site-packages\\statsmodels\\graphics\\regressionplots.py:430: FutureWarning: Series.__getitem__ treating keys as positions is deprecated. In a future version, integer keys will always be treated as labels (consistent with DataFrame behavior). To access a value by position, use `ser.iloc[pos]`\n",
      "  fig = abline_plot(0, fitted_line.params[0], color='k', ax=ax)\n",
      "C:\\Users\\kgw19\\anaconda3\\Lib\\site-packages\\statsmodels\\graphics\\regressionplots.py:430: FutureWarning: Series.__getitem__ treating keys as positions is deprecated. In a future version, integer keys will always be treated as labels (consistent with DataFrame behavior). To access a value by position, use `ser.iloc[pos]`\n",
      "  fig = abline_plot(0, fitted_line.params[0], color='k', ax=ax)\n",
      "C:\\Users\\kgw19\\anaconda3\\Lib\\site-packages\\statsmodels\\graphics\\regressionplots.py:430: FutureWarning: Series.__getitem__ treating keys as positions is deprecated. In a future version, integer keys will always be treated as labels (consistent with DataFrame behavior). To access a value by position, use `ser.iloc[pos]`\n",
      "  fig = abline_plot(0, fitted_line.params[0], color='k', ax=ax)\n",
      "C:\\Users\\kgw19\\anaconda3\\Lib\\site-packages\\statsmodels\\graphics\\regressionplots.py:430: FutureWarning: Series.__getitem__ treating keys as positions is deprecated. In a future version, integer keys will always be treated as labels (consistent with DataFrame behavior). To access a value by position, use `ser.iloc[pos]`\n",
      "  fig = abline_plot(0, fitted_line.params[0], color='k', ax=ax)\n",
      "C:\\Users\\kgw19\\anaconda3\\Lib\\site-packages\\statsmodels\\graphics\\regressionplots.py:430: FutureWarning: Series.__getitem__ treating keys as positions is deprecated. In a future version, integer keys will always be treated as labels (consistent with DataFrame behavior). To access a value by position, use `ser.iloc[pos]`\n",
      "  fig = abline_plot(0, fitted_line.params[0], color='k', ax=ax)\n",
      "C:\\Users\\kgw19\\anaconda3\\Lib\\site-packages\\statsmodels\\graphics\\regressionplots.py:430: FutureWarning: Series.__getitem__ treating keys as positions is deprecated. In a future version, integer keys will always be treated as labels (consistent with DataFrame behavior). To access a value by position, use `ser.iloc[pos]`\n",
      "  fig = abline_plot(0, fitted_line.params[0], color='k', ax=ax)\n",
      "C:\\Users\\kgw19\\anaconda3\\Lib\\site-packages\\statsmodels\\graphics\\regressionplots.py:430: FutureWarning: Series.__getitem__ treating keys as positions is deprecated. In a future version, integer keys will always be treated as labels (consistent with DataFrame behavior). To access a value by position, use `ser.iloc[pos]`\n",
      "  fig = abline_plot(0, fitted_line.params[0], color='k', ax=ax)\n",
      "C:\\Users\\kgw19\\anaconda3\\Lib\\site-packages\\statsmodels\\graphics\\regressionplots.py:430: FutureWarning: Series.__getitem__ treating keys as positions is deprecated. In a future version, integer keys will always be treated as labels (consistent with DataFrame behavior). To access a value by position, use `ser.iloc[pos]`\n",
      "  fig = abline_plot(0, fitted_line.params[0], color='k', ax=ax)\n",
      "C:\\Users\\kgw19\\anaconda3\\Lib\\site-packages\\statsmodels\\graphics\\regressionplots.py:430: FutureWarning: Series.__getitem__ treating keys as positions is deprecated. In a future version, integer keys will always be treated as labels (consistent with DataFrame behavior). To access a value by position, use `ser.iloc[pos]`\n",
      "  fig = abline_plot(0, fitted_line.params[0], color='k', ax=ax)\n"
     ]
    },
    {
     "data": {
      "image/png": "[encoded data removed]",
      "text/plain": [
       "<Figure size 800x1300 with 12 Axes>"
      ]
     },
     "metadata": {},
     "output_type": "display_data"
    }
   ],
   "source": [
    "# residual sugar(잔여 설탕)이 종속 변수 quality에 미치는 영향력을 시각화하기\n",
    "import statsmodels.api as sm\n",
    "others = list(set(wine.columns).difference(set(['quality', 'residual sugar']))) # 부분 회귀에 사용한 독립 변수와 종속 변수를 제외한 나머지 변수 이름을 리스트 other로 추출\n",
    "p, resids = sm.graphics.plot_partregress(\"_q_u_a_l_i_t_y_\", \"_r_e_s_i_d_u_a_l___s_u_g_a_r_\", others, data = wine, ret_coords = True) # 나머지 변수는 고정하고 fixed_acidity가 종속 변수 quality에 미치는 영향에 부분회귀 수행\n",
    "plt.show()\n",
    "fig = plt.figure(figsize = (8, 13))\n",
    "sm.graphics.plot_partregress_grid(regression_result, fig = fig)\n",
    "plt.show()"
   ]
  }
 ],
 "metadata": {
  "kernelspec": {
   "display_name": "Python 3 (ipykernel)",
   "language": "python",
   "name": "python3"
  },
  "language_info": {
   "codemirror_mode": {
    "name": "ipython",
    "version": 3
   },
   "file_extension": ".py",
   "mimetype": "text/x-python",
   "name": "python",
   "nbconvert_exporter": "python",
   "pygments_lexer": "ipython3",
   "version": "3.11.7"
  }
 },
 "nbformat": 4,
 "nbformat_minor": 5
}
